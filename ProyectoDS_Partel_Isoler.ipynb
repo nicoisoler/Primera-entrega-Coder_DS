{
  "nbformat": 4,
  "nbformat_minor": 0,
  "metadata": {
    "colab": {
      "provenance": []
    },
    "kernelspec": {
      "name": "python3",
      "display_name": "Python 3"
    },
    "language_info": {
      "name": "python"
    }
  },
  "cells": [
    {
      "cell_type": "markdown",
      "source": [
        "# **Análisis de reservas en un negocio de hoteles**\n",
        "\n",
        "### **Primera entrega Proyecto final de data science para CoderHouse**\n",
        "\n",
        "### **Nicolás Isoler**\n",
        "\n",
        "Una importante empresa de hoteles del país está revisando sus costos comerciales. Analizando los contratos detectan que poseen un acuerdo con la agencia de marketing que les ayuda a traer clientes potenciales al hotel.\n",
        "\n",
        "Según lo acordado, se le paga un costo fijo mensual pequeño por el servicio, pero la mayoría es un costo variable atado a las reservas de USD 1,50 por cada reserva realizada. Se les paga contra resultado; es decir, si traen un cliente potencial que no hace una reserva, entonces no hay que pagarles el improte variable. Solo se les paga cuando esos clientes potenciales que traen realmente hacen una reserva en el hotel.\n",
        "\n",
        "El problema surge cuando se dan cuenta que el costo variable debe ser abonado independientemente que la reserva sea cancelada o se haga efectiva la visita (ya que los clientes sólo pagan cuando llegan al hotel, no al momento de hacer su reserva).\n",
        "\n",
        "Además, cuando alguien cancela con menos de 3 días de anticipación el costo es de alrededor de USD 120,00 adicionales.\n",
        "\n",
        "# **Preguntas e hipótesis de interés**\n",
        "-  ¿Cuánto es la tasa de cancelación de reservas?\n",
        "-  ¿Cuáles son las reservas con mayor riesgo de cancelación?\n",
        "-  Las reservas que se hacen con mayor anticipación tienen mucho riesgo de cancelarse.\n",
        "-  Las reservas que incluyen hijos tienen menor riesgo.\n",
        "-  Los usuarios que realizaron algún cambio en su reserva tienen menor riesgo.\n",
        "-  Cuando el usuario ha realizado una solicitud especial el riesgo es menor.\n",
        "-  Las reservas que tienen un “adr” bajo el riesgo es menor.\n",
        "\n",
        "\n",
        "\n",
        "Columna\"Tipo de Hotel\" hace referencia a la clase de hotel consultado, Resort o Ciudad\n",
        "Reserva cancelada se refiere a si el cliente canceló la reserva, admitiendo como respuesta \"Sí\" o \"No\"\n",
        "Días transcurridos se refiere a los días transcurridos desde la reserva hasta la fecha de llegada al hotel\n",
        "Mes de la fecha de llegada hace mención al mes de arribo al hotel\n",
        "Número de semana del año de la fecha de llegada se refiere a la semana del año de la fecha de arribo\n",
        "Número de noches de fin de semana (sábado o domingo) refiere a Sábados o Domingos que el huésped se alojó o reservó para quedarse en el hotel\n",
        "Número de noches de la semana (de lunes a viernes) quiere decir las noches de Lunes a Viernes que el huésped se hospedó o reservó para quedarse en el hotel\n"
      ],
      "metadata": {
        "id": "jAjTD9QjyReR"
      }
    },
    {
      "cell_type": "code",
      "execution_count": 7,
      "metadata": {
        "id": "xFpeh-jgH4Sn"
      },
      "outputs": [],
      "source": [
        "import numpy as np\n",
        "import pandas as pd\n",
        "import matplotlib as mpl\n",
        "import matplotlib.pyplot as plt\n",
        "import seaborn as sns"
      ]
    },
    {
      "cell_type": "code",
      "source": [
        "df= pd.read_excel('DatasetReservasHotel.xlsx')"
      ],
      "metadata": {
        "id": "bn9_0bd2H9XR"
      },
      "execution_count": 8,
      "outputs": []
    },
    {
      "cell_type": "code",
      "source": [
        "df"
      ],
      "metadata": {
        "colab": {
          "base_uri": "https://localhost:8080/",
          "height": 704
        },
        "id": "q1HZpLlMu1TV",
        "outputId": "9a075d65-e7f5-43cb-b795-c39dc3a4888a"
      },
      "execution_count": 9,
      "outputs": [
        {
          "output_type": "execute_result",
          "data": {
            "text/plain": [
              "       Tipo de Hotel Reserva cancelada  Días transcurridos  Año de llegada  \\\n",
              "0       Resort Hotel                No                 342            2015   \n",
              "1       Resort Hotel                No                 737            2015   \n",
              "2       Resort Hotel                No                   7            2015   \n",
              "3       Resort Hotel                No                  13            2015   \n",
              "4       Resort Hotel                No                  14            2015   \n",
              "...              ...               ...                 ...             ...   \n",
              "119385    City Hotel                No                  23            2017   \n",
              "119386    City Hotel                No                 102            2017   \n",
              "119387    City Hotel                No                  34            2017   \n",
              "119388    City Hotel                No                 109            2017   \n",
              "119389    City Hotel                No                 205            2017   \n",
              "\n",
              "       Mes de llegada  Número de semana del año de llegada  Día de llegada  \\\n",
              "0                July                                   27               1   \n",
              "1                July                                   27               1   \n",
              "2                July                                   27               1   \n",
              "3                July                                   27               1   \n",
              "4                July                                   27               1   \n",
              "...               ...                                  ...             ...   \n",
              "119385         August                                   35              30   \n",
              "119386         August                                   35              31   \n",
              "119387         August                                   35              31   \n",
              "119388         August                                   35              31   \n",
              "119389         August                                   35              29   \n",
              "\n",
              "        Número de noches de fin de semana  Número de noches de la semana  \\\n",
              "0                                       0                              0   \n",
              "1                                       0                              0   \n",
              "2                                       0                              1   \n",
              "3                                       0                              1   \n",
              "4                                       0                              2   \n",
              "...                                   ...                            ...   \n",
              "119385                                  2                              5   \n",
              "119386                                  2                              5   \n",
              "119387                                  2                              5   \n",
              "119388                                  2                              5   \n",
              "119389                                  2                              7   \n",
              "\n",
              "        Adultos  ...  Código del tipo de habitación asignado  \\\n",
              "0             2  ...                                       C   \n",
              "1             2  ...                                       C   \n",
              "2             1  ...                                       C   \n",
              "3             1  ...                                       A   \n",
              "4             2  ...                                       A   \n",
              "...         ...  ...                                     ...   \n",
              "119385        2  ...                                       A   \n",
              "119386        3  ...                                       E   \n",
              "119387        2  ...                                       D   \n",
              "119388        2  ...                                       A   \n",
              "119389        2  ...                                       A   \n",
              "\n",
              "        Número de cambios en la reserva Tipo de garantía  \\\n",
              "0                                     3     Sin depósito   \n",
              "1                                     4     Sin depósito   \n",
              "2                                     0     Sin depósito   \n",
              "3                                     0  No reembolsable   \n",
              "4                                     0     Reembolsable   \n",
              "...                                 ...              ...   \n",
              "119385                                0  No reembolsable   \n",
              "119386                                0     Reembolsable   \n",
              "119387                                0     Reembolsable   \n",
              "119388                                0  No reembolsable   \n",
              "119389                                0     Reembolsable   \n",
              "\n",
              "       Importe de la reserva ID de la entidad de reserva Tipo de reserva  \\\n",
              "0                          0                           0       Transient   \n",
              "1                          0                           0       Transient   \n",
              "2                          0                           0       Transient   \n",
              "3                        304                           0       Transient   \n",
              "4                        240                           0       Transient   \n",
              "...                      ...                         ...             ...   \n",
              "119385                   394                           0       Transient   \n",
              "119386                     9                           0       Transient   \n",
              "119387                     9                           0       Transient   \n",
              "119388                    89                           0       Transient   \n",
              "119389                     9                           0       Transient   \n",
              "\n",
              "        Días antes de confirmar  Número de plazas de aparcamiento  \\\n",
              "0                          0.00                                 0   \n",
              "1                          0.00                                 0   \n",
              "2                         75.00                                 0   \n",
              "3                         75.00                                 0   \n",
              "4                         98.00                                 0   \n",
              "...                         ...                               ...   \n",
              "119385                    96.14                                 0   \n",
              "119386                   225.43                                 0   \n",
              "119387                   157.71                                 0   \n",
              "119388                   104.40                                 0   \n",
              "119389                   151.20                                 0   \n",
              "\n",
              "        Número de peticiones Estado de la reserva  \n",
              "0                          0            Check-Out  \n",
              "1                          0            Check-Out  \n",
              "2                          0            Check-Out  \n",
              "3                          0            Check-Out  \n",
              "4                          1            Check-Out  \n",
              "...                      ...                  ...  \n",
              "119385                     0            Check-Out  \n",
              "119386                     2            Check-Out  \n",
              "119387                     4            Check-Out  \n",
              "119388                     0            Check-Out  \n",
              "119389                     2            Check-Out  \n",
              "\n",
              "[119390 rows x 30 columns]"
            ],
            "text/html": [
              "\n",
              "  <div id=\"df-ecef86b4-a1ea-4b80-990b-4d8ffb3e4d95\" class=\"colab-df-container\">\n",
              "    <div>\n",
              "<style scoped>\n",
              "    .dataframe tbody tr th:only-of-type {\n",
              "        vertical-align: middle;\n",
              "    }\n",
              "\n",
              "    .dataframe tbody tr th {\n",
              "        vertical-align: top;\n",
              "    }\n",
              "\n",
              "    .dataframe thead th {\n",
              "        text-align: right;\n",
              "    }\n",
              "</style>\n",
              "<table border=\"1\" class=\"dataframe\">\n",
              "  <thead>\n",
              "    <tr style=\"text-align: right;\">\n",
              "      <th></th>\n",
              "      <th>Tipo de Hotel</th>\n",
              "      <th>Reserva cancelada</th>\n",
              "      <th>Días transcurridos</th>\n",
              "      <th>Año de llegada</th>\n",
              "      <th>Mes de llegada</th>\n",
              "      <th>Número de semana del año de llegada</th>\n",
              "      <th>Día de llegada</th>\n",
              "      <th>Número de noches de fin de semana</th>\n",
              "      <th>Número de noches de la semana</th>\n",
              "      <th>Adultos</th>\n",
              "      <th>...</th>\n",
              "      <th>Código del tipo de habitación asignado</th>\n",
              "      <th>Número de cambios en la reserva</th>\n",
              "      <th>Tipo de garantía</th>\n",
              "      <th>Importe de la reserva</th>\n",
              "      <th>ID de la entidad de reserva</th>\n",
              "      <th>Tipo de reserva</th>\n",
              "      <th>Días antes de confirmar</th>\n",
              "      <th>Número de plazas de aparcamiento</th>\n",
              "      <th>Número de peticiones</th>\n",
              "      <th>Estado de la reserva</th>\n",
              "    </tr>\n",
              "  </thead>\n",
              "  <tbody>\n",
              "    <tr>\n",
              "      <th>0</th>\n",
              "      <td>Resort Hotel</td>\n",
              "      <td>No</td>\n",
              "      <td>342</td>\n",
              "      <td>2015</td>\n",
              "      <td>July</td>\n",
              "      <td>27</td>\n",
              "      <td>1</td>\n",
              "      <td>0</td>\n",
              "      <td>0</td>\n",
              "      <td>2</td>\n",
              "      <td>...</td>\n",
              "      <td>C</td>\n",
              "      <td>3</td>\n",
              "      <td>Sin depósito</td>\n",
              "      <td>0</td>\n",
              "      <td>0</td>\n",
              "      <td>Transient</td>\n",
              "      <td>0.00</td>\n",
              "      <td>0</td>\n",
              "      <td>0</td>\n",
              "      <td>Check-Out</td>\n",
              "    </tr>\n",
              "    <tr>\n",
              "      <th>1</th>\n",
              "      <td>Resort Hotel</td>\n",
              "      <td>No</td>\n",
              "      <td>737</td>\n",
              "      <td>2015</td>\n",
              "      <td>July</td>\n",
              "      <td>27</td>\n",
              "      <td>1</td>\n",
              "      <td>0</td>\n",
              "      <td>0</td>\n",
              "      <td>2</td>\n",
              "      <td>...</td>\n",
              "      <td>C</td>\n",
              "      <td>4</td>\n",
              "      <td>Sin depósito</td>\n",
              "      <td>0</td>\n",
              "      <td>0</td>\n",
              "      <td>Transient</td>\n",
              "      <td>0.00</td>\n",
              "      <td>0</td>\n",
              "      <td>0</td>\n",
              "      <td>Check-Out</td>\n",
              "    </tr>\n",
              "    <tr>\n",
              "      <th>2</th>\n",
              "      <td>Resort Hotel</td>\n",
              "      <td>No</td>\n",
              "      <td>7</td>\n",
              "      <td>2015</td>\n",
              "      <td>July</td>\n",
              "      <td>27</td>\n",
              "      <td>1</td>\n",
              "      <td>0</td>\n",
              "      <td>1</td>\n",
              "      <td>1</td>\n",
              "      <td>...</td>\n",
              "      <td>C</td>\n",
              "      <td>0</td>\n",
              "      <td>Sin depósito</td>\n",
              "      <td>0</td>\n",
              "      <td>0</td>\n",
              "      <td>Transient</td>\n",
              "      <td>75.00</td>\n",
              "      <td>0</td>\n",
              "      <td>0</td>\n",
              "      <td>Check-Out</td>\n",
              "    </tr>\n",
              "    <tr>\n",
              "      <th>3</th>\n",
              "      <td>Resort Hotel</td>\n",
              "      <td>No</td>\n",
              "      <td>13</td>\n",
              "      <td>2015</td>\n",
              "      <td>July</td>\n",
              "      <td>27</td>\n",
              "      <td>1</td>\n",
              "      <td>0</td>\n",
              "      <td>1</td>\n",
              "      <td>1</td>\n",
              "      <td>...</td>\n",
              "      <td>A</td>\n",
              "      <td>0</td>\n",
              "      <td>No reembolsable</td>\n",
              "      <td>304</td>\n",
              "      <td>0</td>\n",
              "      <td>Transient</td>\n",
              "      <td>75.00</td>\n",
              "      <td>0</td>\n",
              "      <td>0</td>\n",
              "      <td>Check-Out</td>\n",
              "    </tr>\n",
              "    <tr>\n",
              "      <th>4</th>\n",
              "      <td>Resort Hotel</td>\n",
              "      <td>No</td>\n",
              "      <td>14</td>\n",
              "      <td>2015</td>\n",
              "      <td>July</td>\n",
              "      <td>27</td>\n",
              "      <td>1</td>\n",
              "      <td>0</td>\n",
              "      <td>2</td>\n",
              "      <td>2</td>\n",
              "      <td>...</td>\n",
              "      <td>A</td>\n",
              "      <td>0</td>\n",
              "      <td>Reembolsable</td>\n",
              "      <td>240</td>\n",
              "      <td>0</td>\n",
              "      <td>Transient</td>\n",
              "      <td>98.00</td>\n",
              "      <td>0</td>\n",
              "      <td>1</td>\n",
              "      <td>Check-Out</td>\n",
              "    </tr>\n",
              "    <tr>\n",
              "      <th>...</th>\n",
              "      <td>...</td>\n",
              "      <td>...</td>\n",
              "      <td>...</td>\n",
              "      <td>...</td>\n",
              "      <td>...</td>\n",
              "      <td>...</td>\n",
              "      <td>...</td>\n",
              "      <td>...</td>\n",
              "      <td>...</td>\n",
              "      <td>...</td>\n",
              "      <td>...</td>\n",
              "      <td>...</td>\n",
              "      <td>...</td>\n",
              "      <td>...</td>\n",
              "      <td>...</td>\n",
              "      <td>...</td>\n",
              "      <td>...</td>\n",
              "      <td>...</td>\n",
              "      <td>...</td>\n",
              "      <td>...</td>\n",
              "      <td>...</td>\n",
              "    </tr>\n",
              "    <tr>\n",
              "      <th>119385</th>\n",
              "      <td>City Hotel</td>\n",
              "      <td>No</td>\n",
              "      <td>23</td>\n",
              "      <td>2017</td>\n",
              "      <td>August</td>\n",
              "      <td>35</td>\n",
              "      <td>30</td>\n",
              "      <td>2</td>\n",
              "      <td>5</td>\n",
              "      <td>2</td>\n",
              "      <td>...</td>\n",
              "      <td>A</td>\n",
              "      <td>0</td>\n",
              "      <td>No reembolsable</td>\n",
              "      <td>394</td>\n",
              "      <td>0</td>\n",
              "      <td>Transient</td>\n",
              "      <td>96.14</td>\n",
              "      <td>0</td>\n",
              "      <td>0</td>\n",
              "      <td>Check-Out</td>\n",
              "    </tr>\n",
              "    <tr>\n",
              "      <th>119386</th>\n",
              "      <td>City Hotel</td>\n",
              "      <td>No</td>\n",
              "      <td>102</td>\n",
              "      <td>2017</td>\n",
              "      <td>August</td>\n",
              "      <td>35</td>\n",
              "      <td>31</td>\n",
              "      <td>2</td>\n",
              "      <td>5</td>\n",
              "      <td>3</td>\n",
              "      <td>...</td>\n",
              "      <td>E</td>\n",
              "      <td>0</td>\n",
              "      <td>Reembolsable</td>\n",
              "      <td>9</td>\n",
              "      <td>0</td>\n",
              "      <td>Transient</td>\n",
              "      <td>225.43</td>\n",
              "      <td>0</td>\n",
              "      <td>2</td>\n",
              "      <td>Check-Out</td>\n",
              "    </tr>\n",
              "    <tr>\n",
              "      <th>119387</th>\n",
              "      <td>City Hotel</td>\n",
              "      <td>No</td>\n",
              "      <td>34</td>\n",
              "      <td>2017</td>\n",
              "      <td>August</td>\n",
              "      <td>35</td>\n",
              "      <td>31</td>\n",
              "      <td>2</td>\n",
              "      <td>5</td>\n",
              "      <td>2</td>\n",
              "      <td>...</td>\n",
              "      <td>D</td>\n",
              "      <td>0</td>\n",
              "      <td>Reembolsable</td>\n",
              "      <td>9</td>\n",
              "      <td>0</td>\n",
              "      <td>Transient</td>\n",
              "      <td>157.71</td>\n",
              "      <td>0</td>\n",
              "      <td>4</td>\n",
              "      <td>Check-Out</td>\n",
              "    </tr>\n",
              "    <tr>\n",
              "      <th>119388</th>\n",
              "      <td>City Hotel</td>\n",
              "      <td>No</td>\n",
              "      <td>109</td>\n",
              "      <td>2017</td>\n",
              "      <td>August</td>\n",
              "      <td>35</td>\n",
              "      <td>31</td>\n",
              "      <td>2</td>\n",
              "      <td>5</td>\n",
              "      <td>2</td>\n",
              "      <td>...</td>\n",
              "      <td>A</td>\n",
              "      <td>0</td>\n",
              "      <td>No reembolsable</td>\n",
              "      <td>89</td>\n",
              "      <td>0</td>\n",
              "      <td>Transient</td>\n",
              "      <td>104.40</td>\n",
              "      <td>0</td>\n",
              "      <td>0</td>\n",
              "      <td>Check-Out</td>\n",
              "    </tr>\n",
              "    <tr>\n",
              "      <th>119389</th>\n",
              "      <td>City Hotel</td>\n",
              "      <td>No</td>\n",
              "      <td>205</td>\n",
              "      <td>2017</td>\n",
              "      <td>August</td>\n",
              "      <td>35</td>\n",
              "      <td>29</td>\n",
              "      <td>2</td>\n",
              "      <td>7</td>\n",
              "      <td>2</td>\n",
              "      <td>...</td>\n",
              "      <td>A</td>\n",
              "      <td>0</td>\n",
              "      <td>Reembolsable</td>\n",
              "      <td>9</td>\n",
              "      <td>0</td>\n",
              "      <td>Transient</td>\n",
              "      <td>151.20</td>\n",
              "      <td>0</td>\n",
              "      <td>2</td>\n",
              "      <td>Check-Out</td>\n",
              "    </tr>\n",
              "  </tbody>\n",
              "</table>\n",
              "<p>119390 rows × 30 columns</p>\n",
              "</div>\n",
              "    <div class=\"colab-df-buttons\">\n",
              "\n",
              "  <div class=\"colab-df-container\">\n",
              "    <button class=\"colab-df-convert\" onclick=\"convertToInteractive('df-ecef86b4-a1ea-4b80-990b-4d8ffb3e4d95')\"\n",
              "            title=\"Convert this dataframe to an interactive table.\"\n",
              "            style=\"display:none;\">\n",
              "\n",
              "  <svg xmlns=\"http://www.w3.org/2000/svg\" height=\"24px\" viewBox=\"0 -960 960 960\">\n",
              "    <path d=\"M120-120v-720h720v720H120Zm60-500h600v-160H180v160Zm220 220h160v-160H400v160Zm0 220h160v-160H400v160ZM180-400h160v-160H180v160Zm440 0h160v-160H620v160ZM180-180h160v-160H180v160Zm440 0h160v-160H620v160Z\"/>\n",
              "  </svg>\n",
              "    </button>\n",
              "\n",
              "  <style>\n",
              "    .colab-df-container {\n",
              "      display:flex;\n",
              "      gap: 12px;\n",
              "    }\n",
              "\n",
              "    .colab-df-convert {\n",
              "      background-color: #E8F0FE;\n",
              "      border: none;\n",
              "      border-radius: 50%;\n",
              "      cursor: pointer;\n",
              "      display: none;\n",
              "      fill: #1967D2;\n",
              "      height: 32px;\n",
              "      padding: 0 0 0 0;\n",
              "      width: 32px;\n",
              "    }\n",
              "\n",
              "    .colab-df-convert:hover {\n",
              "      background-color: #E2EBFA;\n",
              "      box-shadow: 0px 1px 2px rgba(60, 64, 67, 0.3), 0px 1px 3px 1px rgba(60, 64, 67, 0.15);\n",
              "      fill: #174EA6;\n",
              "    }\n",
              "\n",
              "    .colab-df-buttons div {\n",
              "      margin-bottom: 4px;\n",
              "    }\n",
              "\n",
              "    [theme=dark] .colab-df-convert {\n",
              "      background-color: #3B4455;\n",
              "      fill: #D2E3FC;\n",
              "    }\n",
              "\n",
              "    [theme=dark] .colab-df-convert:hover {\n",
              "      background-color: #434B5C;\n",
              "      box-shadow: 0px 1px 3px 1px rgba(0, 0, 0, 0.15);\n",
              "      filter: drop-shadow(0px 1px 2px rgba(0, 0, 0, 0.3));\n",
              "      fill: #FFFFFF;\n",
              "    }\n",
              "  </style>\n",
              "\n",
              "    <script>\n",
              "      const buttonEl =\n",
              "        document.querySelector('#df-ecef86b4-a1ea-4b80-990b-4d8ffb3e4d95 button.colab-df-convert');\n",
              "      buttonEl.style.display =\n",
              "        google.colab.kernel.accessAllowed ? 'block' : 'none';\n",
              "\n",
              "      async function convertToInteractive(key) {\n",
              "        const element = document.querySelector('#df-ecef86b4-a1ea-4b80-990b-4d8ffb3e4d95');\n",
              "        const dataTable =\n",
              "          await google.colab.kernel.invokeFunction('convertToInteractive',\n",
              "                                                    [key], {});\n",
              "        if (!dataTable) return;\n",
              "\n",
              "        const docLinkHtml = 'Like what you see? Visit the ' +\n",
              "          '<a target=\"_blank\" href=https://colab.research.google.com/notebooks/data_table.ipynb>data table notebook</a>'\n",
              "          + ' to learn more about interactive tables.';\n",
              "        element.innerHTML = '';\n",
              "        dataTable['output_type'] = 'display_data';\n",
              "        await google.colab.output.renderOutput(dataTable, element);\n",
              "        const docLink = document.createElement('div');\n",
              "        docLink.innerHTML = docLinkHtml;\n",
              "        element.appendChild(docLink);\n",
              "      }\n",
              "    </script>\n",
              "  </div>\n",
              "\n",
              "\n",
              "<div id=\"df-92f4fdd4-29d9-41ba-a931-448a6779fb71\">\n",
              "  <button class=\"colab-df-quickchart\" onclick=\"quickchart('df-92f4fdd4-29d9-41ba-a931-448a6779fb71')\"\n",
              "            title=\"Suggest charts\"\n",
              "            style=\"display:none;\">\n",
              "\n",
              "<svg xmlns=\"http://www.w3.org/2000/svg\" height=\"24px\"viewBox=\"0 0 24 24\"\n",
              "     width=\"24px\">\n",
              "    <g>\n",
              "        <path d=\"M19 3H5c-1.1 0-2 .9-2 2v14c0 1.1.9 2 2 2h14c1.1 0 2-.9 2-2V5c0-1.1-.9-2-2-2zM9 17H7v-7h2v7zm4 0h-2V7h2v10zm4 0h-2v-4h2v4z\"/>\n",
              "    </g>\n",
              "</svg>\n",
              "  </button>\n",
              "\n",
              "<style>\n",
              "  .colab-df-quickchart {\n",
              "      --bg-color: #E8F0FE;\n",
              "      --fill-color: #1967D2;\n",
              "      --hover-bg-color: #E2EBFA;\n",
              "      --hover-fill-color: #174EA6;\n",
              "      --disabled-fill-color: #AAA;\n",
              "      --disabled-bg-color: #DDD;\n",
              "  }\n",
              "\n",
              "  [theme=dark] .colab-df-quickchart {\n",
              "      --bg-color: #3B4455;\n",
              "      --fill-color: #D2E3FC;\n",
              "      --hover-bg-color: #434B5C;\n",
              "      --hover-fill-color: #FFFFFF;\n",
              "      --disabled-bg-color: #3B4455;\n",
              "      --disabled-fill-color: #666;\n",
              "  }\n",
              "\n",
              "  .colab-df-quickchart {\n",
              "    background-color: var(--bg-color);\n",
              "    border: none;\n",
              "    border-radius: 50%;\n",
              "    cursor: pointer;\n",
              "    display: none;\n",
              "    fill: var(--fill-color);\n",
              "    height: 32px;\n",
              "    padding: 0;\n",
              "    width: 32px;\n",
              "  }\n",
              "\n",
              "  .colab-df-quickchart:hover {\n",
              "    background-color: var(--hover-bg-color);\n",
              "    box-shadow: 0 1px 2px rgba(60, 64, 67, 0.3), 0 1px 3px 1px rgba(60, 64, 67, 0.15);\n",
              "    fill: var(--button-hover-fill-color);\n",
              "  }\n",
              "\n",
              "  .colab-df-quickchart-complete:disabled,\n",
              "  .colab-df-quickchart-complete:disabled:hover {\n",
              "    background-color: var(--disabled-bg-color);\n",
              "    fill: var(--disabled-fill-color);\n",
              "    box-shadow: none;\n",
              "  }\n",
              "\n",
              "  .colab-df-spinner {\n",
              "    border: 2px solid var(--fill-color);\n",
              "    border-color: transparent;\n",
              "    border-bottom-color: var(--fill-color);\n",
              "    animation:\n",
              "      spin 1s steps(1) infinite;\n",
              "  }\n",
              "\n",
              "  @keyframes spin {\n",
              "    0% {\n",
              "      border-color: transparent;\n",
              "      border-bottom-color: var(--fill-color);\n",
              "      border-left-color: var(--fill-color);\n",
              "    }\n",
              "    20% {\n",
              "      border-color: transparent;\n",
              "      border-left-color: var(--fill-color);\n",
              "      border-top-color: var(--fill-color);\n",
              "    }\n",
              "    30% {\n",
              "      border-color: transparent;\n",
              "      border-left-color: var(--fill-color);\n",
              "      border-top-color: var(--fill-color);\n",
              "      border-right-color: var(--fill-color);\n",
              "    }\n",
              "    40% {\n",
              "      border-color: transparent;\n",
              "      border-right-color: var(--fill-color);\n",
              "      border-top-color: var(--fill-color);\n",
              "    }\n",
              "    60% {\n",
              "      border-color: transparent;\n",
              "      border-right-color: var(--fill-color);\n",
              "    }\n",
              "    80% {\n",
              "      border-color: transparent;\n",
              "      border-right-color: var(--fill-color);\n",
              "      border-bottom-color: var(--fill-color);\n",
              "    }\n",
              "    90% {\n",
              "      border-color: transparent;\n",
              "      border-bottom-color: var(--fill-color);\n",
              "    }\n",
              "  }\n",
              "</style>\n",
              "\n",
              "  <script>\n",
              "    async function quickchart(key) {\n",
              "      const quickchartButtonEl =\n",
              "        document.querySelector('#' + key + ' button');\n",
              "      quickchartButtonEl.disabled = true;  // To prevent multiple clicks.\n",
              "      quickchartButtonEl.classList.add('colab-df-spinner');\n",
              "      try {\n",
              "        const charts = await google.colab.kernel.invokeFunction(\n",
              "            'suggestCharts', [key], {});\n",
              "      } catch (error) {\n",
              "        console.error('Error during call to suggestCharts:', error);\n",
              "      }\n",
              "      quickchartButtonEl.classList.remove('colab-df-spinner');\n",
              "      quickchartButtonEl.classList.add('colab-df-quickchart-complete');\n",
              "    }\n",
              "    (() => {\n",
              "      let quickchartButtonEl =\n",
              "        document.querySelector('#df-92f4fdd4-29d9-41ba-a931-448a6779fb71 button');\n",
              "      quickchartButtonEl.style.display =\n",
              "        google.colab.kernel.accessAllowed ? 'block' : 'none';\n",
              "    })();\n",
              "  </script>\n",
              "</div>\n",
              "\n",
              "  <div id=\"id_60071c9b-9a13-45c7-aba9-356d8d548029\">\n",
              "    <style>\n",
              "      .colab-df-generate {\n",
              "        background-color: #E8F0FE;\n",
              "        border: none;\n",
              "        border-radius: 50%;\n",
              "        cursor: pointer;\n",
              "        display: none;\n",
              "        fill: #1967D2;\n",
              "        height: 32px;\n",
              "        padding: 0 0 0 0;\n",
              "        width: 32px;\n",
              "      }\n",
              "\n",
              "      .colab-df-generate:hover {\n",
              "        background-color: #E2EBFA;\n",
              "        box-shadow: 0px 1px 2px rgba(60, 64, 67, 0.3), 0px 1px 3px 1px rgba(60, 64, 67, 0.15);\n",
              "        fill: #174EA6;\n",
              "      }\n",
              "\n",
              "      [theme=dark] .colab-df-generate {\n",
              "        background-color: #3B4455;\n",
              "        fill: #D2E3FC;\n",
              "      }\n",
              "\n",
              "      [theme=dark] .colab-df-generate:hover {\n",
              "        background-color: #434B5C;\n",
              "        box-shadow: 0px 1px 3px 1px rgba(0, 0, 0, 0.15);\n",
              "        filter: drop-shadow(0px 1px 2px rgba(0, 0, 0, 0.3));\n",
              "        fill: #FFFFFF;\n",
              "      }\n",
              "    </style>\n",
              "    <button class=\"colab-df-generate\" onclick=\"generateWithVariable('df')\"\n",
              "            title=\"Generate code using this dataframe.\"\n",
              "            style=\"display:none;\">\n",
              "\n",
              "  <svg xmlns=\"http://www.w3.org/2000/svg\" height=\"24px\"viewBox=\"0 0 24 24\"\n",
              "       width=\"24px\">\n",
              "    <path d=\"M7,19H8.4L18.45,9,17,7.55,7,17.6ZM5,21V16.75L18.45,3.32a2,2,0,0,1,2.83,0l1.4,1.43a1.91,1.91,0,0,1,.58,1.4,1.91,1.91,0,0,1-.58,1.4L9.25,21ZM18.45,9,17,7.55Zm-12,3A5.31,5.31,0,0,0,4.9,8.1,5.31,5.31,0,0,0,1,6.5,5.31,5.31,0,0,0,4.9,4.9,5.31,5.31,0,0,0,6.5,1,5.31,5.31,0,0,0,8.1,4.9,5.31,5.31,0,0,0,12,6.5,5.46,5.46,0,0,0,6.5,12Z\"/>\n",
              "  </svg>\n",
              "    </button>\n",
              "    <script>\n",
              "      (() => {\n",
              "      const buttonEl =\n",
              "        document.querySelector('#id_60071c9b-9a13-45c7-aba9-356d8d548029 button.colab-df-generate');\n",
              "      buttonEl.style.display =\n",
              "        google.colab.kernel.accessAllowed ? 'block' : 'none';\n",
              "\n",
              "      buttonEl.onclick = () => {\n",
              "        google.colab.notebook.generateWithVariable('df');\n",
              "      }\n",
              "      })();\n",
              "    </script>\n",
              "  </div>\n",
              "\n",
              "    </div>\n",
              "  </div>\n"
            ],
            "application/vnd.google.colaboratory.intrinsic+json": {
              "type": "dataframe",
              "variable_name": "df"
            }
          },
          "metadata": {},
          "execution_count": 9
        }
      ]
    },
    {
      "cell_type": "markdown",
      "source": [
        "Veamos el encabezado del dataframe para ver cómo son las catacterísticas que incluye."
      ],
      "metadata": {
        "id": "u0D44GckI6Pd"
      }
    },
    {
      "cell_type": "code",
      "source": [
        "df.head(0)"
      ],
      "metadata": {
        "colab": {
          "base_uri": "https://localhost:8080/",
          "height": 186
        },
        "id": "JR0pnB65I5gH",
        "outputId": "995fac29-d34e-4f22-dce4-72f422072457"
      },
      "execution_count": 10,
      "outputs": [
        {
          "output_type": "execute_result",
          "data": {
            "text/plain": [
              "Empty DataFrame\n",
              "Columns: [Tipo de Hotel, Reserva cancelada, Días transcurridos, Año de llegada, Mes de llegada, Número de semana del año de llegada, Día de llegada, Número de noches de fin de semana, Número de noches de la semana, Adultos, Niños, Bebés, Comida, País de origen, Segmento de mercado, Canal de distribución, Cliente habitual, Cancelación previa, Reservas previas no canceladas, Código del tipo de habitación, Código del tipo de habitación asignado, Número de cambios en la reserva, Tipo de garantía, Importe de la reserva, ID de la entidad de reserva, Tipo de reserva, Días antes de confirmar, Número de plazas de aparcamiento, Número de peticiones, Estado de la reserva]\n",
              "Index: []\n",
              "\n",
              "[0 rows x 30 columns]"
            ],
            "text/html": [
              "\n",
              "  <div id=\"df-4871f04b-a2bc-4489-bac3-608f49d00f97\" class=\"colab-df-container\">\n",
              "    <div>\n",
              "<style scoped>\n",
              "    .dataframe tbody tr th:only-of-type {\n",
              "        vertical-align: middle;\n",
              "    }\n",
              "\n",
              "    .dataframe tbody tr th {\n",
              "        vertical-align: top;\n",
              "    }\n",
              "\n",
              "    .dataframe thead th {\n",
              "        text-align: right;\n",
              "    }\n",
              "</style>\n",
              "<table border=\"1\" class=\"dataframe\">\n",
              "  <thead>\n",
              "    <tr style=\"text-align: right;\">\n",
              "      <th></th>\n",
              "      <th>Tipo de Hotel</th>\n",
              "      <th>Reserva cancelada</th>\n",
              "      <th>Días transcurridos</th>\n",
              "      <th>Año de llegada</th>\n",
              "      <th>Mes de llegada</th>\n",
              "      <th>Número de semana del año de llegada</th>\n",
              "      <th>Día de llegada</th>\n",
              "      <th>Número de noches de fin de semana</th>\n",
              "      <th>Número de noches de la semana</th>\n",
              "      <th>Adultos</th>\n",
              "      <th>...</th>\n",
              "      <th>Código del tipo de habitación asignado</th>\n",
              "      <th>Número de cambios en la reserva</th>\n",
              "      <th>Tipo de garantía</th>\n",
              "      <th>Importe de la reserva</th>\n",
              "      <th>ID de la entidad de reserva</th>\n",
              "      <th>Tipo de reserva</th>\n",
              "      <th>Días antes de confirmar</th>\n",
              "      <th>Número de plazas de aparcamiento</th>\n",
              "      <th>Número de peticiones</th>\n",
              "      <th>Estado de la reserva</th>\n",
              "    </tr>\n",
              "  </thead>\n",
              "  <tbody>\n",
              "  </tbody>\n",
              "</table>\n",
              "<p>0 rows × 30 columns</p>\n",
              "</div>\n",
              "    <div class=\"colab-df-buttons\">\n",
              "\n",
              "  <div class=\"colab-df-container\">\n",
              "    <button class=\"colab-df-convert\" onclick=\"convertToInteractive('df-4871f04b-a2bc-4489-bac3-608f49d00f97')\"\n",
              "            title=\"Convert this dataframe to an interactive table.\"\n",
              "            style=\"display:none;\">\n",
              "\n",
              "  <svg xmlns=\"http://www.w3.org/2000/svg\" height=\"24px\" viewBox=\"0 -960 960 960\">\n",
              "    <path d=\"M120-120v-720h720v720H120Zm60-500h600v-160H180v160Zm220 220h160v-160H400v160Zm0 220h160v-160H400v160ZM180-400h160v-160H180v160Zm440 0h160v-160H620v160ZM180-180h160v-160H180v160Zm440 0h160v-160H620v160Z\"/>\n",
              "  </svg>\n",
              "    </button>\n",
              "\n",
              "  <style>\n",
              "    .colab-df-container {\n",
              "      display:flex;\n",
              "      gap: 12px;\n",
              "    }\n",
              "\n",
              "    .colab-df-convert {\n",
              "      background-color: #E8F0FE;\n",
              "      border: none;\n",
              "      border-radius: 50%;\n",
              "      cursor: pointer;\n",
              "      display: none;\n",
              "      fill: #1967D2;\n",
              "      height: 32px;\n",
              "      padding: 0 0 0 0;\n",
              "      width: 32px;\n",
              "    }\n",
              "\n",
              "    .colab-df-convert:hover {\n",
              "      background-color: #E2EBFA;\n",
              "      box-shadow: 0px 1px 2px rgba(60, 64, 67, 0.3), 0px 1px 3px 1px rgba(60, 64, 67, 0.15);\n",
              "      fill: #174EA6;\n",
              "    }\n",
              "\n",
              "    .colab-df-buttons div {\n",
              "      margin-bottom: 4px;\n",
              "    }\n",
              "\n",
              "    [theme=dark] .colab-df-convert {\n",
              "      background-color: #3B4455;\n",
              "      fill: #D2E3FC;\n",
              "    }\n",
              "\n",
              "    [theme=dark] .colab-df-convert:hover {\n",
              "      background-color: #434B5C;\n",
              "      box-shadow: 0px 1px 3px 1px rgba(0, 0, 0, 0.15);\n",
              "      filter: drop-shadow(0px 1px 2px rgba(0, 0, 0, 0.3));\n",
              "      fill: #FFFFFF;\n",
              "    }\n",
              "  </style>\n",
              "\n",
              "    <script>\n",
              "      const buttonEl =\n",
              "        document.querySelector('#df-4871f04b-a2bc-4489-bac3-608f49d00f97 button.colab-df-convert');\n",
              "      buttonEl.style.display =\n",
              "        google.colab.kernel.accessAllowed ? 'block' : 'none';\n",
              "\n",
              "      async function convertToInteractive(key) {\n",
              "        const element = document.querySelector('#df-4871f04b-a2bc-4489-bac3-608f49d00f97');\n",
              "        const dataTable =\n",
              "          await google.colab.kernel.invokeFunction('convertToInteractive',\n",
              "                                                    [key], {});\n",
              "        if (!dataTable) return;\n",
              "\n",
              "        const docLinkHtml = 'Like what you see? Visit the ' +\n",
              "          '<a target=\"_blank\" href=https://colab.research.google.com/notebooks/data_table.ipynb>data table notebook</a>'\n",
              "          + ' to learn more about interactive tables.';\n",
              "        element.innerHTML = '';\n",
              "        dataTable['output_type'] = 'display_data';\n",
              "        await google.colab.output.renderOutput(dataTable, element);\n",
              "        const docLink = document.createElement('div');\n",
              "        docLink.innerHTML = docLinkHtml;\n",
              "        element.appendChild(docLink);\n",
              "      }\n",
              "    </script>\n",
              "  </div>\n",
              "\n",
              "\n",
              "    </div>\n",
              "  </div>\n"
            ],
            "application/vnd.google.colaboratory.intrinsic+json": {
              "type": "dataframe",
              "variable_name": "df"
            }
          },
          "metadata": {},
          "execution_count": 10
        }
      ]
    },
    {
      "cell_type": "markdown",
      "source": [
        "### **Descripción de cada columna**\n",
        "\n",
        "**Tipo de Hotel:** hace referencia a la clase de hotel consultado, Resort o Ciudad.\n",
        "\n",
        "**Reserva cancelada:** se refiere a si el cliente canceló la reserva, admitiendo como respuesta \"Sí\" o \"No\".\n",
        "\n",
        "**Días transcurridos:** se refiere a los días transcurridos desde la reserva hasta la fecha de llegada al hotel.\n",
        "\n",
        "**Año de llegada:** se al año de arribo al hotel.\n",
        "\n",
        "**Mes de llegada:** hace mención al mes de arribo al hotel.\n",
        "\n",
        "**Número de semana del año de llegada:** se refiere a la semana del año de la fecha de arribo.\n",
        "\n",
        "**Día de llegada:** hace mención al día de arribo al hotel.\n",
        "\n",
        "**Número de noches de fin de semana:** refiere a Sábados o Domingos que el huésped se alojó o reservó para quedarse en el hotel.\n",
        "\n",
        "**Número de noches de la semana:** quiere decir las noches de Lunes a Viernes que el huésped se hospedó o reservó para quedarse en el hotel.\n",
        "\n",
        "**Adultos:** número de adultos de la visita.\n",
        "\n",
        "**Niños:** número de niños de la visita.\n",
        "\n",
        "**Bebés:** número de bebés de la visita.\n",
        "\n",
        "**Comida:** tipo de comida reservada, Bed and Breakfast (BB), Half Board (HB), Full Board (FB), Undifined.\n",
        "\n",
        "**País de origen:** país de residendia del cliente de la reserva.\n",
        "\n",
        "**Segmento de mercado:** designación del segmento de mercado. El término \"TA\" : Agentes de viajes y \"TO\" : Operadores turísticos.\n",
        "\n",
        "**Canal de distribución:** canal de distribución de reservas.\n",
        "\n",
        "**Cliente habitual:** El nombre de la reserva era de un huésped repetido (1) / No era un huésped repetido (0)\n",
        "\n",
        "**Cancelación previa:** número de reservas anteriores que fueron canceladas por el cliente antes de la reserva actual.\n",
        "\n",
        "**Reservas previas no canceladas:** número de reservas anteriores no canceladas por el cliente antes de la reserva actual.\n",
        "\n",
        "**Código del tipo de habitación:** código del tipo de habitación reservada.\n",
        "\n",
        "**Código del tipo de habitación asignado:** código del tipo de habitación asignado a la reserva.\n",
        "\n",
        "**Número de cambios en la reserva:** número de cambios/enmiendas realizados en la reserva desde el momento en que se introdujo la reserva hasta la entrada.\n",
        "\n",
        "**Tipo de garantía:** indicación de si el cliente hizo un depósito para garantizar la reserva. Sin depósito: no se realizó ningún depósito; No reembolsable: se realizó un depósito por el valor del coste total de la estancia; Reembolsable: se realizó un depósito por un valor inferior al coste total de la estancia.\n",
        "\n",
        "**Importe de la reserva:** importe del depósito de garantía.\n",
        "\n",
        "**ID de la entidad de reserva:** número de indentificación de la agencia de viajes que hizo la reserva.\n",
        "\n",
        "**Tipo de reserva:** tipo de reserva, asumiendo una de las cuatro categorías: Contract - cuando la reserva tiene asociada una adjudicación u otro tipo de contrato; Group - cuando la reserva está asociada a un grupo; Transient - cuando la reserva no forma parte de un grupo o contrato, y no está asociada a otra reserva transitoria; Transient-party - cuando la reserva es transitoria, pero está asociada al menos a otra reserva transitoria.\n",
        "\n",
        "**Días antes de confirmar:** número de días que la reserva estuvo en la lista de espera antes de ser confirmada al cliente.\n",
        "\n",
        "**Número de plazas de aparcamiento:** número de plazas de aparcamiento que necesita el cliente.\n",
        "\n",
        "**Número de peticiones:** número de peticiones especiales realizadas por el cliente (por ejemplo, cama doble o piso alto).\n",
        "\n",
        "**Estado de la reserva:** estado de la última reserva, asumiendo una de las tres categorías: Canceled - la reserva fue cancelada por el cliente; Check-Out - el cliente se ha registrado pero ya se ha marchado; No-Show - el cliente no se ha registrado y ha informado al hotel del motivo."
      ],
      "metadata": {
        "id": "oUsb1Gaw6h2z"
      }
    },
    {
      "cell_type": "markdown",
      "source": [
        "## **DATA WRANGLING**\n",
        "\n",
        "Para comenzar el análisis de los datos vamos a ver la estructura del dataset de manera de entender la cantidad de datos, la clase de variables con las que vamos a trabajar, la existencia de valores nulos o duplicados."
      ],
      "metadata": {
        "id": "kd1MjjXsvjaD"
      }
    },
    {
      "cell_type": "code",
      "source": [
        "df.shape"
      ],
      "metadata": {
        "colab": {
          "base_uri": "https://localhost:8080/"
        },
        "id": "JmY3U-GuvsLN",
        "outputId": "cd3ee69d-77dc-4643-9449-da8e2ef36e20"
      },
      "execution_count": 11,
      "outputs": [
        {
          "output_type": "execute_result",
          "data": {
            "text/plain": [
              "(119390, 30)"
            ]
          },
          "metadata": {},
          "execution_count": 11
        }
      ]
    },
    {
      "cell_type": "markdown",
      "source": [
        "El dataset obtenido posee 119.390 filas y 30 columnas."
      ],
      "metadata": {
        "id": "VnJJbdcmv6JK"
      }
    },
    {
      "cell_type": "markdown",
      "source": [
        "Analizamos el dataframe para ver si existen datos erróneos o nulos. Miramos la información general del dataframe."
      ],
      "metadata": {
        "id": "E94oLSUW7ods"
      }
    },
    {
      "cell_type": "code",
      "source": [
        "df.info()"
      ],
      "metadata": {
        "colab": {
          "base_uri": "https://localhost:8080/"
        },
        "id": "fuB-72Ez7qa6",
        "outputId": "33e95f16-9892-4ba2-d7cb-0fb1371f4cbe"
      },
      "execution_count": 12,
      "outputs": [
        {
          "output_type": "stream",
          "name": "stdout",
          "text": [
            "<class 'pandas.core.frame.DataFrame'>\n",
            "RangeIndex: 119390 entries, 0 to 119389\n",
            "Data columns (total 30 columns):\n",
            " #   Column                                  Non-Null Count   Dtype  \n",
            "---  ------                                  --------------   -----  \n",
            " 0   Tipo de Hotel                           119390 non-null  object \n",
            " 1   Reserva cancelada                       119390 non-null  object \n",
            " 2   Días transcurridos                      119390 non-null  int64  \n",
            " 3   Año de llegada                          119390 non-null  int64  \n",
            " 4   Mes de llegada                          119390 non-null  object \n",
            " 5   Número de semana del año de llegada     119390 non-null  int64  \n",
            " 6   Día de llegada                          119390 non-null  int64  \n",
            " 7   Número de noches de fin de semana       119390 non-null  int64  \n",
            " 8   Número de noches de la semana           119390 non-null  int64  \n",
            " 9   Adultos                                 119390 non-null  int64  \n",
            " 10  Niños                                   119390 non-null  int64  \n",
            " 11  Bebés                                   119390 non-null  int64  \n",
            " 12  Comida                                  119390 non-null  object \n",
            " 13  País de origen                          119390 non-null  object \n",
            " 14  Segmento de mercado                     119390 non-null  object \n",
            " 15  Canal de distribución                   119390 non-null  object \n",
            " 16  Cliente habitual                        119390 non-null  int64  \n",
            " 17  Cancelación previa                      119390 non-null  int64  \n",
            " 18  Reservas previas no canceladas          119390 non-null  int64  \n",
            " 19  Código del tipo de habitación           119390 non-null  object \n",
            " 20  Código del tipo de habitación asignado  119390 non-null  object \n",
            " 21  Número de cambios en la reserva         119390 non-null  int64  \n",
            " 22  Tipo de garantía                        119390 non-null  object \n",
            " 23  Importe de la reserva                   119390 non-null  int64  \n",
            " 24  ID de la entidad de reserva             119390 non-null  int64  \n",
            " 25  Tipo de reserva                         119390 non-null  object \n",
            " 26  Días antes de confirmar                 119390 non-null  float64\n",
            " 27  Número de plazas de aparcamiento        119390 non-null  int64  \n",
            " 28  Número de peticiones                    119390 non-null  int64  \n",
            " 29  Estado de la reserva                    119390 non-null  object \n",
            "dtypes: float64(1), int64(17), object(12)\n",
            "memory usage: 27.3+ MB\n"
          ]
        }
      ]
    },
    {
      "cell_type": "markdown",
      "source": [
        "Podemos ver que los datos vienen limpios, sin valores nulos. Vemos que hay variables enteras y otras tipo texto (str) que corresponden a categorías."
      ],
      "metadata": {
        "id": "8Wktj6LK8Ips"
      }
    },
    {
      "cell_type": "code",
      "source": [
        "df.isnull().sum()"
      ],
      "metadata": {
        "colab": {
          "base_uri": "https://localhost:8080/"
        },
        "id": "jw0L5eyzwESx",
        "outputId": "c5f0b239-bc1e-43ad-e0a6-924f869babdb"
      },
      "execution_count": 13,
      "outputs": [
        {
          "output_type": "execute_result",
          "data": {
            "text/plain": [
              "Tipo de Hotel                             0\n",
              "Reserva cancelada                         0\n",
              "Días transcurridos                        0\n",
              "Año de llegada                            0\n",
              "Mes de llegada                            0\n",
              "Número de semana del año de llegada       0\n",
              "Día de llegada                            0\n",
              "Número de noches de fin de semana         0\n",
              "Número de noches de la semana             0\n",
              "Adultos                                   0\n",
              "Niños                                     0\n",
              "Bebés                                     0\n",
              "Comida                                    0\n",
              "País de origen                            0\n",
              "Segmento de mercado                       0\n",
              "Canal de distribución                     0\n",
              "Cliente habitual                          0\n",
              "Cancelación previa                        0\n",
              "Reservas previas no canceladas            0\n",
              "Código del tipo de habitación             0\n",
              "Código del tipo de habitación asignado    0\n",
              "Número de cambios en la reserva           0\n",
              "Tipo de garantía                          0\n",
              "Importe de la reserva                     0\n",
              "ID de la entidad de reserva               0\n",
              "Tipo de reserva                           0\n",
              "Días antes de confirmar                   0\n",
              "Número de plazas de aparcamiento          0\n",
              "Número de peticiones                      0\n",
              "Estado de la reserva                      0\n",
              "dtype: int64"
            ]
          },
          "metadata": {},
          "execution_count": 13
        }
      ]
    },
    {
      "cell_type": "markdown",
      "source": [
        "El dataset no posee datos nulos, posee doce variables categóricas y dieciocho numéricas."
      ],
      "metadata": {
        "id": "JJ4qOPXBxkZG"
      }
    },
    {
      "cell_type": "markdown",
      "source": [
        "Analizamos la existencia de duplicados."
      ],
      "metadata": {
        "id": "Re0bybTxyinC"
      }
    },
    {
      "cell_type": "code",
      "source": [
        "df.duplicated().value_counts()"
      ],
      "metadata": {
        "colab": {
          "base_uri": "https://localhost:8080/"
        },
        "id": "RyfeL5buyUnc",
        "outputId": "9f3b3283-da33-48c1-907a-e21a7d433a7c"
      },
      "execution_count": 14,
      "outputs": [
        {
          "output_type": "execute_result",
          "data": {
            "text/plain": [
              "False    91892\n",
              "True     27498\n",
              "dtype: int64"
            ]
          },
          "metadata": {},
          "execution_count": 14
        }
      ]
    },
    {
      "cell_type": "code",
      "source": [
        "dfn = df.drop_duplicates().reset_index(drop=True)\n",
        "dfn.head(5)"
      ],
      "metadata": {
        "id": "-Gn2xfduH9lB",
        "colab": {
          "base_uri": "https://localhost:8080/",
          "height": 429
        },
        "outputId": "7d5322b0-cb37-47bf-905b-8b50b6989a38"
      },
      "execution_count": 15,
      "outputs": [
        {
          "output_type": "execute_result",
          "data": {
            "text/plain": [
              "  Tipo de Hotel Reserva cancelada  Días transcurridos  Año de llegada  \\\n",
              "0  Resort Hotel                No                 342            2015   \n",
              "1  Resort Hotel                No                 737            2015   \n",
              "2  Resort Hotel                No                   7            2015   \n",
              "3  Resort Hotel                No                  13            2015   \n",
              "4  Resort Hotel                No                  14            2015   \n",
              "\n",
              "  Mes de llegada  Número de semana del año de llegada  Día de llegada  \\\n",
              "0           July                                   27               1   \n",
              "1           July                                   27               1   \n",
              "2           July                                   27               1   \n",
              "3           July                                   27               1   \n",
              "4           July                                   27               1   \n",
              "\n",
              "   Número de noches de fin de semana  Número de noches de la semana  Adultos  \\\n",
              "0                                  0                              0        2   \n",
              "1                                  0                              0        2   \n",
              "2                                  0                              1        1   \n",
              "3                                  0                              1        1   \n",
              "4                                  0                              2        2   \n",
              "\n",
              "   ...  Código del tipo de habitación asignado  \\\n",
              "0  ...                                       C   \n",
              "1  ...                                       C   \n",
              "2  ...                                       C   \n",
              "3  ...                                       A   \n",
              "4  ...                                       A   \n",
              "\n",
              "   Número de cambios en la reserva Tipo de garantía Importe de la reserva  \\\n",
              "0                                3     Sin depósito                     0   \n",
              "1                                4     Sin depósito                     0   \n",
              "2                                0     Sin depósito                     0   \n",
              "3                                0  No reembolsable                   304   \n",
              "4                                0     Reembolsable                   240   \n",
              "\n",
              "  ID de la entidad de reserva Tipo de reserva  Días antes de confirmar  \\\n",
              "0                           0       Transient                      0.0   \n",
              "1                           0       Transient                      0.0   \n",
              "2                           0       Transient                     75.0   \n",
              "3                           0       Transient                     75.0   \n",
              "4                           0       Transient                     98.0   \n",
              "\n",
              "   Número de plazas de aparcamiento  Número de peticiones Estado de la reserva  \n",
              "0                                 0                     0            Check-Out  \n",
              "1                                 0                     0            Check-Out  \n",
              "2                                 0                     0            Check-Out  \n",
              "3                                 0                     0            Check-Out  \n",
              "4                                 0                     1            Check-Out  \n",
              "\n",
              "[5 rows x 30 columns]"
            ],
            "text/html": [
              "\n",
              "  <div id=\"df-6ff0d2d5-80d6-4f9f-af15-be06239a6850\" class=\"colab-df-container\">\n",
              "    <div>\n",
              "<style scoped>\n",
              "    .dataframe tbody tr th:only-of-type {\n",
              "        vertical-align: middle;\n",
              "    }\n",
              "\n",
              "    .dataframe tbody tr th {\n",
              "        vertical-align: top;\n",
              "    }\n",
              "\n",
              "    .dataframe thead th {\n",
              "        text-align: right;\n",
              "    }\n",
              "</style>\n",
              "<table border=\"1\" class=\"dataframe\">\n",
              "  <thead>\n",
              "    <tr style=\"text-align: right;\">\n",
              "      <th></th>\n",
              "      <th>Tipo de Hotel</th>\n",
              "      <th>Reserva cancelada</th>\n",
              "      <th>Días transcurridos</th>\n",
              "      <th>Año de llegada</th>\n",
              "      <th>Mes de llegada</th>\n",
              "      <th>Número de semana del año de llegada</th>\n",
              "      <th>Día de llegada</th>\n",
              "      <th>Número de noches de fin de semana</th>\n",
              "      <th>Número de noches de la semana</th>\n",
              "      <th>Adultos</th>\n",
              "      <th>...</th>\n",
              "      <th>Código del tipo de habitación asignado</th>\n",
              "      <th>Número de cambios en la reserva</th>\n",
              "      <th>Tipo de garantía</th>\n",
              "      <th>Importe de la reserva</th>\n",
              "      <th>ID de la entidad de reserva</th>\n",
              "      <th>Tipo de reserva</th>\n",
              "      <th>Días antes de confirmar</th>\n",
              "      <th>Número de plazas de aparcamiento</th>\n",
              "      <th>Número de peticiones</th>\n",
              "      <th>Estado de la reserva</th>\n",
              "    </tr>\n",
              "  </thead>\n",
              "  <tbody>\n",
              "    <tr>\n",
              "      <th>0</th>\n",
              "      <td>Resort Hotel</td>\n",
              "      <td>No</td>\n",
              "      <td>342</td>\n",
              "      <td>2015</td>\n",
              "      <td>July</td>\n",
              "      <td>27</td>\n",
              "      <td>1</td>\n",
              "      <td>0</td>\n",
              "      <td>0</td>\n",
              "      <td>2</td>\n",
              "      <td>...</td>\n",
              "      <td>C</td>\n",
              "      <td>3</td>\n",
              "      <td>Sin depósito</td>\n",
              "      <td>0</td>\n",
              "      <td>0</td>\n",
              "      <td>Transient</td>\n",
              "      <td>0.0</td>\n",
              "      <td>0</td>\n",
              "      <td>0</td>\n",
              "      <td>Check-Out</td>\n",
              "    </tr>\n",
              "    <tr>\n",
              "      <th>1</th>\n",
              "      <td>Resort Hotel</td>\n",
              "      <td>No</td>\n",
              "      <td>737</td>\n",
              "      <td>2015</td>\n",
              "      <td>July</td>\n",
              "      <td>27</td>\n",
              "      <td>1</td>\n",
              "      <td>0</td>\n",
              "      <td>0</td>\n",
              "      <td>2</td>\n",
              "      <td>...</td>\n",
              "      <td>C</td>\n",
              "      <td>4</td>\n",
              "      <td>Sin depósito</td>\n",
              "      <td>0</td>\n",
              "      <td>0</td>\n",
              "      <td>Transient</td>\n",
              "      <td>0.0</td>\n",
              "      <td>0</td>\n",
              "      <td>0</td>\n",
              "      <td>Check-Out</td>\n",
              "    </tr>\n",
              "    <tr>\n",
              "      <th>2</th>\n",
              "      <td>Resort Hotel</td>\n",
              "      <td>No</td>\n",
              "      <td>7</td>\n",
              "      <td>2015</td>\n",
              "      <td>July</td>\n",
              "      <td>27</td>\n",
              "      <td>1</td>\n",
              "      <td>0</td>\n",
              "      <td>1</td>\n",
              "      <td>1</td>\n",
              "      <td>...</td>\n",
              "      <td>C</td>\n",
              "      <td>0</td>\n",
              "      <td>Sin depósito</td>\n",
              "      <td>0</td>\n",
              "      <td>0</td>\n",
              "      <td>Transient</td>\n",
              "      <td>75.0</td>\n",
              "      <td>0</td>\n",
              "      <td>0</td>\n",
              "      <td>Check-Out</td>\n",
              "    </tr>\n",
              "    <tr>\n",
              "      <th>3</th>\n",
              "      <td>Resort Hotel</td>\n",
              "      <td>No</td>\n",
              "      <td>13</td>\n",
              "      <td>2015</td>\n",
              "      <td>July</td>\n",
              "      <td>27</td>\n",
              "      <td>1</td>\n",
              "      <td>0</td>\n",
              "      <td>1</td>\n",
              "      <td>1</td>\n",
              "      <td>...</td>\n",
              "      <td>A</td>\n",
              "      <td>0</td>\n",
              "      <td>No reembolsable</td>\n",
              "      <td>304</td>\n",
              "      <td>0</td>\n",
              "      <td>Transient</td>\n",
              "      <td>75.0</td>\n",
              "      <td>0</td>\n",
              "      <td>0</td>\n",
              "      <td>Check-Out</td>\n",
              "    </tr>\n",
              "    <tr>\n",
              "      <th>4</th>\n",
              "      <td>Resort Hotel</td>\n",
              "      <td>No</td>\n",
              "      <td>14</td>\n",
              "      <td>2015</td>\n",
              "      <td>July</td>\n",
              "      <td>27</td>\n",
              "      <td>1</td>\n",
              "      <td>0</td>\n",
              "      <td>2</td>\n",
              "      <td>2</td>\n",
              "      <td>...</td>\n",
              "      <td>A</td>\n",
              "      <td>0</td>\n",
              "      <td>Reembolsable</td>\n",
              "      <td>240</td>\n",
              "      <td>0</td>\n",
              "      <td>Transient</td>\n",
              "      <td>98.0</td>\n",
              "      <td>0</td>\n",
              "      <td>1</td>\n",
              "      <td>Check-Out</td>\n",
              "    </tr>\n",
              "  </tbody>\n",
              "</table>\n",
              "<p>5 rows × 30 columns</p>\n",
              "</div>\n",
              "    <div class=\"colab-df-buttons\">\n",
              "\n",
              "  <div class=\"colab-df-container\">\n",
              "    <button class=\"colab-df-convert\" onclick=\"convertToInteractive('df-6ff0d2d5-80d6-4f9f-af15-be06239a6850')\"\n",
              "            title=\"Convert this dataframe to an interactive table.\"\n",
              "            style=\"display:none;\">\n",
              "\n",
              "  <svg xmlns=\"http://www.w3.org/2000/svg\" height=\"24px\" viewBox=\"0 -960 960 960\">\n",
              "    <path d=\"M120-120v-720h720v720H120Zm60-500h600v-160H180v160Zm220 220h160v-160H400v160Zm0 220h160v-160H400v160ZM180-400h160v-160H180v160Zm440 0h160v-160H620v160ZM180-180h160v-160H180v160Zm440 0h160v-160H620v160Z\"/>\n",
              "  </svg>\n",
              "    </button>\n",
              "\n",
              "  <style>\n",
              "    .colab-df-container {\n",
              "      display:flex;\n",
              "      gap: 12px;\n",
              "    }\n",
              "\n",
              "    .colab-df-convert {\n",
              "      background-color: #E8F0FE;\n",
              "      border: none;\n",
              "      border-radius: 50%;\n",
              "      cursor: pointer;\n",
              "      display: none;\n",
              "      fill: #1967D2;\n",
              "      height: 32px;\n",
              "      padding: 0 0 0 0;\n",
              "      width: 32px;\n",
              "    }\n",
              "\n",
              "    .colab-df-convert:hover {\n",
              "      background-color: #E2EBFA;\n",
              "      box-shadow: 0px 1px 2px rgba(60, 64, 67, 0.3), 0px 1px 3px 1px rgba(60, 64, 67, 0.15);\n",
              "      fill: #174EA6;\n",
              "    }\n",
              "\n",
              "    .colab-df-buttons div {\n",
              "      margin-bottom: 4px;\n",
              "    }\n",
              "\n",
              "    [theme=dark] .colab-df-convert {\n",
              "      background-color: #3B4455;\n",
              "      fill: #D2E3FC;\n",
              "    }\n",
              "\n",
              "    [theme=dark] .colab-df-convert:hover {\n",
              "      background-color: #434B5C;\n",
              "      box-shadow: 0px 1px 3px 1px rgba(0, 0, 0, 0.15);\n",
              "      filter: drop-shadow(0px 1px 2px rgba(0, 0, 0, 0.3));\n",
              "      fill: #FFFFFF;\n",
              "    }\n",
              "  </style>\n",
              "\n",
              "    <script>\n",
              "      const buttonEl =\n",
              "        document.querySelector('#df-6ff0d2d5-80d6-4f9f-af15-be06239a6850 button.colab-df-convert');\n",
              "      buttonEl.style.display =\n",
              "        google.colab.kernel.accessAllowed ? 'block' : 'none';\n",
              "\n",
              "      async function convertToInteractive(key) {\n",
              "        const element = document.querySelector('#df-6ff0d2d5-80d6-4f9f-af15-be06239a6850');\n",
              "        const dataTable =\n",
              "          await google.colab.kernel.invokeFunction('convertToInteractive',\n",
              "                                                    [key], {});\n",
              "        if (!dataTable) return;\n",
              "\n",
              "        const docLinkHtml = 'Like what you see? Visit the ' +\n",
              "          '<a target=\"_blank\" href=https://colab.research.google.com/notebooks/data_table.ipynb>data table notebook</a>'\n",
              "          + ' to learn more about interactive tables.';\n",
              "        element.innerHTML = '';\n",
              "        dataTable['output_type'] = 'display_data';\n",
              "        await google.colab.output.renderOutput(dataTable, element);\n",
              "        const docLink = document.createElement('div');\n",
              "        docLink.innerHTML = docLinkHtml;\n",
              "        element.appendChild(docLink);\n",
              "      }\n",
              "    </script>\n",
              "  </div>\n",
              "\n",
              "\n",
              "<div id=\"df-17bbaef5-ec55-4e8d-a41a-e76a99d3c65e\">\n",
              "  <button class=\"colab-df-quickchart\" onclick=\"quickchart('df-17bbaef5-ec55-4e8d-a41a-e76a99d3c65e')\"\n",
              "            title=\"Suggest charts\"\n",
              "            style=\"display:none;\">\n",
              "\n",
              "<svg xmlns=\"http://www.w3.org/2000/svg\" height=\"24px\"viewBox=\"0 0 24 24\"\n",
              "     width=\"24px\">\n",
              "    <g>\n",
              "        <path d=\"M19 3H5c-1.1 0-2 .9-2 2v14c0 1.1.9 2 2 2h14c1.1 0 2-.9 2-2V5c0-1.1-.9-2-2-2zM9 17H7v-7h2v7zm4 0h-2V7h2v10zm4 0h-2v-4h2v4z\"/>\n",
              "    </g>\n",
              "</svg>\n",
              "  </button>\n",
              "\n",
              "<style>\n",
              "  .colab-df-quickchart {\n",
              "      --bg-color: #E8F0FE;\n",
              "      --fill-color: #1967D2;\n",
              "      --hover-bg-color: #E2EBFA;\n",
              "      --hover-fill-color: #174EA6;\n",
              "      --disabled-fill-color: #AAA;\n",
              "      --disabled-bg-color: #DDD;\n",
              "  }\n",
              "\n",
              "  [theme=dark] .colab-df-quickchart {\n",
              "      --bg-color: #3B4455;\n",
              "      --fill-color: #D2E3FC;\n",
              "      --hover-bg-color: #434B5C;\n",
              "      --hover-fill-color: #FFFFFF;\n",
              "      --disabled-bg-color: #3B4455;\n",
              "      --disabled-fill-color: #666;\n",
              "  }\n",
              "\n",
              "  .colab-df-quickchart {\n",
              "    background-color: var(--bg-color);\n",
              "    border: none;\n",
              "    border-radius: 50%;\n",
              "    cursor: pointer;\n",
              "    display: none;\n",
              "    fill: var(--fill-color);\n",
              "    height: 32px;\n",
              "    padding: 0;\n",
              "    width: 32px;\n",
              "  }\n",
              "\n",
              "  .colab-df-quickchart:hover {\n",
              "    background-color: var(--hover-bg-color);\n",
              "    box-shadow: 0 1px 2px rgba(60, 64, 67, 0.3), 0 1px 3px 1px rgba(60, 64, 67, 0.15);\n",
              "    fill: var(--button-hover-fill-color);\n",
              "  }\n",
              "\n",
              "  .colab-df-quickchart-complete:disabled,\n",
              "  .colab-df-quickchart-complete:disabled:hover {\n",
              "    background-color: var(--disabled-bg-color);\n",
              "    fill: var(--disabled-fill-color);\n",
              "    box-shadow: none;\n",
              "  }\n",
              "\n",
              "  .colab-df-spinner {\n",
              "    border: 2px solid var(--fill-color);\n",
              "    border-color: transparent;\n",
              "    border-bottom-color: var(--fill-color);\n",
              "    animation:\n",
              "      spin 1s steps(1) infinite;\n",
              "  }\n",
              "\n",
              "  @keyframes spin {\n",
              "    0% {\n",
              "      border-color: transparent;\n",
              "      border-bottom-color: var(--fill-color);\n",
              "      border-left-color: var(--fill-color);\n",
              "    }\n",
              "    20% {\n",
              "      border-color: transparent;\n",
              "      border-left-color: var(--fill-color);\n",
              "      border-top-color: var(--fill-color);\n",
              "    }\n",
              "    30% {\n",
              "      border-color: transparent;\n",
              "      border-left-color: var(--fill-color);\n",
              "      border-top-color: var(--fill-color);\n",
              "      border-right-color: var(--fill-color);\n",
              "    }\n",
              "    40% {\n",
              "      border-color: transparent;\n",
              "      border-right-color: var(--fill-color);\n",
              "      border-top-color: var(--fill-color);\n",
              "    }\n",
              "    60% {\n",
              "      border-color: transparent;\n",
              "      border-right-color: var(--fill-color);\n",
              "    }\n",
              "    80% {\n",
              "      border-color: transparent;\n",
              "      border-right-color: var(--fill-color);\n",
              "      border-bottom-color: var(--fill-color);\n",
              "    }\n",
              "    90% {\n",
              "      border-color: transparent;\n",
              "      border-bottom-color: var(--fill-color);\n",
              "    }\n",
              "  }\n",
              "</style>\n",
              "\n",
              "  <script>\n",
              "    async function quickchart(key) {\n",
              "      const quickchartButtonEl =\n",
              "        document.querySelector('#' + key + ' button');\n",
              "      quickchartButtonEl.disabled = true;  // To prevent multiple clicks.\n",
              "      quickchartButtonEl.classList.add('colab-df-spinner');\n",
              "      try {\n",
              "        const charts = await google.colab.kernel.invokeFunction(\n",
              "            'suggestCharts', [key], {});\n",
              "      } catch (error) {\n",
              "        console.error('Error during call to suggestCharts:', error);\n",
              "      }\n",
              "      quickchartButtonEl.classList.remove('colab-df-spinner');\n",
              "      quickchartButtonEl.classList.add('colab-df-quickchart-complete');\n",
              "    }\n",
              "    (() => {\n",
              "      let quickchartButtonEl =\n",
              "        document.querySelector('#df-17bbaef5-ec55-4e8d-a41a-e76a99d3c65e button');\n",
              "      quickchartButtonEl.style.display =\n",
              "        google.colab.kernel.accessAllowed ? 'block' : 'none';\n",
              "    })();\n",
              "  </script>\n",
              "</div>\n",
              "\n",
              "    </div>\n",
              "  </div>\n"
            ],
            "application/vnd.google.colaboratory.intrinsic+json": {
              "type": "dataframe",
              "variable_name": "dfn"
            }
          },
          "metadata": {},
          "execution_count": 15
        }
      ]
    },
    {
      "cell_type": "markdown",
      "source": [
        "Verificamos la eliminación de los valores duplicados."
      ],
      "metadata": {
        "id": "XehTYoTYz5rH"
      }
    },
    {
      "cell_type": "code",
      "source": [
        "dfn.duplicated().value_counts()"
      ],
      "metadata": {
        "colab": {
          "base_uri": "https://localhost:8080/"
        },
        "id": "hfkiHQzuz6ji",
        "outputId": "752ad06f-6e03-411c-86d7-a0052d956cb3"
      },
      "execution_count": 16,
      "outputs": [
        {
          "output_type": "execute_result",
          "data": {
            "text/plain": [
              "False    91892\n",
              "dtype: int64"
            ]
          },
          "metadata": {},
          "execution_count": 16
        }
      ]
    },
    {
      "cell_type": "markdown",
      "source": [
        "Realizamos un primer análisis de las variables para ver la cantidad de categorías que poseen."
      ],
      "metadata": {
        "id": "xetH0nQlzcWN"
      }
    },
    {
      "cell_type": "code",
      "source": [
        "dfn[\"Tipo de Hotel\"].unique()"
      ],
      "metadata": {
        "id": "ZVyTVu9h6Orc",
        "colab": {
          "base_uri": "https://localhost:8080/"
        },
        "outputId": "f0ea69f6-6537-4f3d-c799-36503a0901f8"
      },
      "execution_count": 17,
      "outputs": [
        {
          "output_type": "execute_result",
          "data": {
            "text/plain": [
              "array(['Resort Hotel', 'City Hotel'], dtype=object)"
            ]
          },
          "metadata": {},
          "execution_count": 17
        }
      ]
    },
    {
      "cell_type": "code",
      "source": [
        "dfn[\"Reserva cancelada\"].unique()"
      ],
      "metadata": {
        "colab": {
          "base_uri": "https://localhost:8080/"
        },
        "id": "Tt5wxBra0fhc",
        "outputId": "26503e02-c805-466d-d4dd-4c51510df8f7"
      },
      "execution_count": 18,
      "outputs": [
        {
          "output_type": "execute_result",
          "data": {
            "text/plain": [
              "array(['No', 'Si'], dtype=object)"
            ]
          },
          "metadata": {},
          "execution_count": 18
        }
      ]
    },
    {
      "cell_type": "code",
      "source": [
        "dfn[\"Días transcurridos\"].unique()"
      ],
      "metadata": {
        "colab": {
          "base_uri": "https://localhost:8080/"
        },
        "id": "CA7LfBP30sWi",
        "outputId": "47d8b5a0-f77c-402f-d213-1a5aaf7e012b"
      },
      "execution_count": 19,
      "outputs": [
        {
          "output_type": "execute_result",
          "data": {
            "text/plain": [
              "array([342, 737,   7,  13,  14,   0,   9,  85,  75,  23,  35,  68,  18,\n",
              "        37,  12,  72, 127,  78,  48,  60,  77,  99, 118,  95,  96,  69,\n",
              "        45,  40,  15,  36,  43,  70,  16, 107,  47, 113,  90,  50,  93,\n",
              "        76,   3,   1,  10,   5,  17,  51,  71,  63,  62, 101,   2,  81,\n",
              "       368, 364, 324,  79,  21, 109, 102,   4,  98,  92,  26,  73, 115,\n",
              "        86,  52,  29,  30,  33,  32,   8, 100,  44,  80,  97,  64,  39,\n",
              "        34,  27,  82,  94, 110, 111,  84,  66, 104,  28, 258, 112,  65,\n",
              "        67,  55,  88,  54, 292,  83, 105, 280, 394,  24, 103, 366, 249,\n",
              "        22,  91,  11, 108, 106,  31,  87,  41, 304, 117,  59,  53,  58,\n",
              "       116,  42, 321,  38,  56,  49, 317,   6,  57,  19,  25, 315, 123,\n",
              "        46,  89,  61, 312, 299, 130,  74, 298, 119,  20, 286, 136, 129,\n",
              "       124, 327, 131, 460, 140, 114, 139, 122, 137, 126, 120, 128, 135,\n",
              "       150, 143, 151, 132, 125, 157, 147, 138, 156, 164, 346, 159, 160,\n",
              "       161, 333, 381, 149, 154, 297, 163, 314, 155, 323, 340, 356, 142,\n",
              "       328, 144, 336, 248, 302, 175, 344, 382, 146, 170, 166, 338, 167,\n",
              "       310, 148, 165, 172, 171, 145, 121, 178, 305, 173, 152, 354, 347,\n",
              "       158, 185, 349, 183, 352, 177, 200, 192, 361, 207, 174, 330, 134,\n",
              "       350, 334, 283, 153, 197, 133, 241, 193, 235, 194, 261, 260, 216,\n",
              "       169, 209, 238, 215, 141, 189, 187, 223, 284, 214, 202, 211, 168,\n",
              "       230, 203, 188, 232, 709, 219, 162, 196, 190, 259, 228, 176, 250,\n",
              "       201, 186, 199, 180, 206, 205, 224, 222, 182, 210, 275, 212, 229,\n",
              "       218, 208, 191, 181, 179, 246, 255, 226, 288, 253, 252, 262, 236,\n",
              "       256, 234, 254, 468, 213, 237, 198, 195, 239, 263, 265, 274, 217,\n",
              "       220, 307, 221, 233, 257, 227, 276, 225, 264, 311, 277, 204, 290,\n",
              "       266, 270, 294, 319, 282, 251, 322, 291, 269, 240, 271, 184, 231,\n",
              "       268, 247, 273, 300, 301, 267, 244, 306, 293, 309, 272, 242, 295,\n",
              "       285, 243, 308, 398, 303, 245, 424, 279, 331, 281, 339, 434, 357,\n",
              "       325, 329, 278, 332, 343, 345, 360, 348, 367, 353, 373, 374, 406,\n",
              "       400, 326, 379, 399, 316, 341, 320, 385, 355, 363, 358, 296, 422,\n",
              "       390, 335, 370, 376, 375, 397, 289, 542, 403, 383, 384, 359, 393,\n",
              "       337, 362, 365, 435, 386, 378, 313, 351, 287, 471, 462, 411, 450,\n",
              "       318, 372, 371, 454, 532, 445, 389, 388, 407, 443, 437, 451, 391,\n",
              "       405, 412, 419, 420, 426, 433, 440, 429, 418, 447, 461, 605, 457,\n",
              "       475, 464, 482, 626, 489, 496, 503, 510, 517, 524, 531, 538, 545,\n",
              "       552, 559, 566, 573, 580, 587, 594, 601, 608, 615, 622, 629, 396,\n",
              "       410, 395, 423, 408, 409, 448, 465, 387, 414, 476, 479, 467, 490,\n",
              "       493, 478, 504, 507, 458, 518, 521, 377, 444, 380, 463])"
            ]
          },
          "metadata": {},
          "execution_count": 19
        }
      ]
    },
    {
      "cell_type": "code",
      "source": [
        "dfn[\"Año de llegada\"].unique()"
      ],
      "metadata": {
        "colab": {
          "base_uri": "https://localhost:8080/"
        },
        "id": "t0pm7K2o0yp4",
        "outputId": "2ec6847b-9036-4d6e-afd6-8e5ddf596cad"
      },
      "execution_count": 20,
      "outputs": [
        {
          "output_type": "execute_result",
          "data": {
            "text/plain": [
              "array([2015, 2016, 2017])"
            ]
          },
          "metadata": {},
          "execution_count": 20
        }
      ]
    },
    {
      "cell_type": "code",
      "source": [
        "dfn[\"Mes de llegada\"].unique()"
      ],
      "metadata": {
        "colab": {
          "base_uri": "https://localhost:8080/"
        },
        "id": "HUQBHFXe0169",
        "outputId": "0c12f493-11fd-4fbc-f646-72b32f3d7aa6"
      },
      "execution_count": 21,
      "outputs": [
        {
          "output_type": "execute_result",
          "data": {
            "text/plain": [
              "array(['July', 'August', 'September', 'October', 'November', 'December',\n",
              "       'January', 'February', 'March', 'April', 'May', 'June'],\n",
              "      dtype=object)"
            ]
          },
          "metadata": {},
          "execution_count": 21
        }
      ]
    },
    {
      "cell_type": "code",
      "source": [
        "dfn[\"Número de semana del año de llegada\"].unique()"
      ],
      "metadata": {
        "colab": {
          "base_uri": "https://localhost:8080/"
        },
        "id": "MUPmrSiC09nX",
        "outputId": "bfc27b0e-442e-4bd4-e71c-220c9a513b10"
      },
      "execution_count": 22,
      "outputs": [
        {
          "output_type": "execute_result",
          "data": {
            "text/plain": [
              "array([27, 28, 29, 30, 31, 32, 33, 34, 35, 36, 37, 38, 39, 40, 41, 42, 43,\n",
              "       44, 45, 46, 47, 48, 49, 50, 51, 52, 53,  1,  2,  3,  4,  5,  6,  7,\n",
              "        8,  9, 10, 11, 12, 13, 14, 15, 16, 17, 18, 19, 20, 21, 22, 23, 24,\n",
              "       25, 26])"
            ]
          },
          "metadata": {},
          "execution_count": 22
        }
      ]
    },
    {
      "cell_type": "code",
      "source": [
        "dfn[\"Día de llegada\"].unique()"
      ],
      "metadata": {
        "colab": {
          "base_uri": "https://localhost:8080/"
        },
        "id": "HmGPvPN41Ejc",
        "outputId": "b885dad2-7bc5-4a36-fb5b-230582b77c06"
      },
      "execution_count": 23,
      "outputs": [
        {
          "output_type": "execute_result",
          "data": {
            "text/plain": [
              "array([ 1,  2,  3,  4,  5,  6,  7,  8,  9, 10, 11, 12, 13, 14, 15, 16, 17,\n",
              "       18, 19, 20, 21, 22, 23, 24, 25, 26, 27, 28, 29, 30, 31])"
            ]
          },
          "metadata": {},
          "execution_count": 23
        }
      ]
    },
    {
      "cell_type": "code",
      "source": [
        "dfn[\"Número de noches de fin de semana\"].unique()"
      ],
      "metadata": {
        "colab": {
          "base_uri": "https://localhost:8080/"
        },
        "id": "ZBcl60nS1EaU",
        "outputId": "93df8848-07d7-465c-a4f8-b5ef2a662831"
      },
      "execution_count": 24,
      "outputs": [
        {
          "output_type": "execute_result",
          "data": {
            "text/plain": [
              "array([ 0,  1,  2,  4,  3,  6, 13,  8,  5,  7, 12,  9, 16, 18, 19, 10, 14])"
            ]
          },
          "metadata": {},
          "execution_count": 24
        }
      ]
    },
    {
      "cell_type": "code",
      "source": [
        "dfn[\"Número de noches de la semana\"].unique()"
      ],
      "metadata": {
        "colab": {
          "base_uri": "https://localhost:8080/"
        },
        "id": "psIq6Cqz1ESg",
        "outputId": "22fe0778-2872-4b58-9310-1332b11936b1"
      },
      "execution_count": 25,
      "outputs": [
        {
          "output_type": "execute_result",
          "data": {
            "text/plain": [
              "array([ 0,  1,  2,  3,  4,  5, 10, 11,  8,  6,  7, 15,  9, 12, 33, 20, 14,\n",
              "       16, 21, 13, 30, 19, 24, 40, 22, 42, 50, 25, 17, 32, 26, 18, 34, 35,\n",
              "       41])"
            ]
          },
          "metadata": {},
          "execution_count": 25
        }
      ]
    },
    {
      "cell_type": "code",
      "source": [
        "dfn[\"Adultos\"].unique()"
      ],
      "metadata": {
        "colab": {
          "base_uri": "https://localhost:8080/"
        },
        "id": "npnQcT--1ELP",
        "outputId": "40d5c80c-4914-430c-f269-f7004e899c2e"
      },
      "execution_count": 26,
      "outputs": [
        {
          "output_type": "execute_result",
          "data": {
            "text/plain": [
              "array([ 2,  1,  3,  4, 40, 26, 50, 27, 55,  0, 20,  6,  5, 10])"
            ]
          },
          "metadata": {},
          "execution_count": 26
        }
      ]
    },
    {
      "cell_type": "code",
      "source": [
        "dfn[\"Niños\"].unique()"
      ],
      "metadata": {
        "colab": {
          "base_uri": "https://localhost:8080/"
        },
        "id": "yXP5QO6d1D82",
        "outputId": "df9ceb82-c0a9-4eb1-d1dd-e3ce3c01a233"
      },
      "execution_count": 27,
      "outputs": [
        {
          "output_type": "execute_result",
          "data": {
            "text/plain": [
              "array([ 0,  1,  2, 10,  3])"
            ]
          },
          "metadata": {},
          "execution_count": 27
        }
      ]
    },
    {
      "cell_type": "code",
      "source": [
        "dfn[\"Bebés\"].unique()"
      ],
      "metadata": {
        "colab": {
          "base_uri": "https://localhost:8080/"
        },
        "id": "3ihAkdSb1anr",
        "outputId": "3e5a73e4-341d-4f4d-d225-d6b6ff277c12"
      },
      "execution_count": 28,
      "outputs": [
        {
          "output_type": "execute_result",
          "data": {
            "text/plain": [
              "array([ 0,  1,  2, 10,  9])"
            ]
          },
          "metadata": {},
          "execution_count": 28
        }
      ]
    },
    {
      "cell_type": "code",
      "source": [
        "dfn[\"Comida\"].unique()"
      ],
      "metadata": {
        "colab": {
          "base_uri": "https://localhost:8080/"
        },
        "id": "Rb2SItwq1alJ",
        "outputId": "31079c69-4e64-442f-d914-894128aa9fc0"
      },
      "execution_count": 29,
      "outputs": [
        {
          "output_type": "execute_result",
          "data": {
            "text/plain": [
              "array(['BB', 'FB', 'HB', 'Undefined'], dtype=object)"
            ]
          },
          "metadata": {},
          "execution_count": 29
        }
      ]
    },
    {
      "cell_type": "code",
      "source": [
        "dfn[\"País de origen\"].unique()"
      ],
      "metadata": {
        "colab": {
          "base_uri": "https://localhost:8080/"
        },
        "id": "EIuPff7j1ajK",
        "outputId": "d485a481-37fb-40a7-ce79-9ca761115407"
      },
      "execution_count": 30,
      "outputs": [
        {
          "output_type": "execute_result",
          "data": {
            "text/plain": [
              "array(['PRT', 'GBR', 'USA', 'ESP', 'IRL', 'FRA', 'ARG', 'ROU', 'NOR',\n",
              "       'OMN', 'POL', 'DEU', 'BEL', 'CHE', 'CN', 'GRC', 'ITA', 'NLD',\n",
              "       'DNK', 'RUS', 'SWE', 'AUS', 'EST', 'CZE', 'BRA', 'FIN', 'MOZ',\n",
              "       'BWA', 'LUX', 'SVN', 'ALB', 'IND', 'CHN', 'MEX', 'MAR', 'UKR',\n",
              "       'SMR', 'LVA', 'PRI', 'SRB', 'CHL', 'AUT', 'BLR', 'LTU', 'TUR',\n",
              "       'ZAF', 'AGO', 'ISR', 'CYM', 'ZMB', 'CPV', 'ZWE', 'DZA', 'KOR',\n",
              "       'CRI', 'HUN', 'ARE', 'TUN', 'JAM', 'HRV', 'HKG', 'IRN', 'GEO',\n",
              "       'AND', 'GIB', 'URY', 'JEY', 'CAF', 'CYP', 'COL', 'GGY', 'KWT',\n",
              "       'NGA', 'MDV', 'VEN', 'SVK', 'FJI', 'KAZ', 'PAK', 'IDN', 'LBN',\n",
              "       'PHL', 'SEN', 'SYC', 'AZE', 'BHR', 'NZL', 'THA', 'DOM', 'MKD',\n",
              "       'MYS', 'ARM', 'JPN', 'LKA', 'CUB', 'CMR', 'BIH', 'MUS', 'COM',\n",
              "       'SUR', 'UGA', 'BGR', 'CIV', 'JOR', 'SYR', 'SGP', 'BDI', 'SAU',\n",
              "       'VNM', 'PLW', 'QAT', 'EGY', 'PER', 'MLT', 'MWI', 'ECU', 'MDG',\n",
              "       'ISL', 'UZB', 'NPL', 'BHS', 'MAC', 'TGO', 'TWN', 'DJI', 'STP',\n",
              "       'KNA', 'ETH', 'IRQ', 'HND', 'RWA', 'KHM', 'MCO', 'BGD', 'IMN',\n",
              "       'TJK', 'NIC', 'BEN', 'VGB', 'TZA', 'GAB', 'GHA', 'TMP', 'GLP',\n",
              "       'KEN', 'LIE', 'GNB', 'MNE', 'UMI', 'MYT', 'FRO', 'MMR', 'PAN',\n",
              "       'BFA', 'LBY', 'MLI', 'NAM', 'BOL', 'PRY', 'BRB', 'ABW', 'AIA',\n",
              "       'SLV', 'DMA', 'PYF', 'GUY', 'LCA', 'ATA', 'GTM', 'ASM', 'MRT',\n",
              "       'NCL', 'KIR', 'SDN', 'ATF', 'SLE', 'LAO'], dtype=object)"
            ]
          },
          "metadata": {},
          "execution_count": 30
        }
      ]
    },
    {
      "cell_type": "code",
      "source": [
        "dfn[\"Segmento de mercado\"].unique()"
      ],
      "metadata": {
        "colab": {
          "base_uri": "https://localhost:8080/"
        },
        "id": "n9bhnMDU1ag9",
        "outputId": "402f56f0-4805-4130-92ec-687d59e66b13"
      },
      "execution_count": 31,
      "outputs": [
        {
          "output_type": "execute_result",
          "data": {
            "text/plain": [
              "array(['Direct', 'Corporate', 'Online Agentes viajes', 'Online TA',\n",
              "       'Offline TA/Operadores', 'Offline TA/TO', 'Complementary',\n",
              "       'Groups', 'Undefined', 'Aviation'], dtype=object)"
            ]
          },
          "metadata": {},
          "execution_count": 31
        }
      ]
    },
    {
      "cell_type": "code",
      "source": [
        "dfn[\"Canal de distribución\"].unique()"
      ],
      "metadata": {
        "colab": {
          "base_uri": "https://localhost:8080/"
        },
        "id": "tzoUQWi01ael",
        "outputId": "776a71e7-1dfe-493a-da7c-5f90204271b7"
      },
      "execution_count": 32,
      "outputs": [
        {
          "output_type": "execute_result",
          "data": {
            "text/plain": [
              "array(['Direct', 'Corporate', 'TA/Operadores turísticos', 'TA/TO',\n",
              "       'Undefined', 'GDS'], dtype=object)"
            ]
          },
          "metadata": {},
          "execution_count": 32
        }
      ]
    },
    {
      "cell_type": "code",
      "source": [
        "dfn[\"Cliente habitual\"].unique()"
      ],
      "metadata": {
        "colab": {
          "base_uri": "https://localhost:8080/"
        },
        "id": "CNqCi0iZ1acH",
        "outputId": "30206306-b79b-4e5b-da32-ca544fb1db26"
      },
      "execution_count": 33,
      "outputs": [
        {
          "output_type": "execute_result",
          "data": {
            "text/plain": [
              "array([0, 1])"
            ]
          },
          "metadata": {},
          "execution_count": 33
        }
      ]
    },
    {
      "cell_type": "code",
      "source": [
        "dfn[\"Cancelación previa\"].unique()"
      ],
      "metadata": {
        "colab": {
          "base_uri": "https://localhost:8080/"
        },
        "id": "zcFTGGry1aaA",
        "outputId": "e4e525c3-c8e2-4d63-d2b4-1ef9274798cd"
      },
      "execution_count": 34,
      "outputs": [
        {
          "output_type": "execute_result",
          "data": {
            "text/plain": [
              "array([ 0,  1,  2,  3, 26, 25, 14,  4, 24, 19,  5, 21,  6, 13, 11])"
            ]
          },
          "metadata": {},
          "execution_count": 34
        }
      ]
    },
    {
      "cell_type": "code",
      "source": [
        "dfn[\"Reservas previas no canceladas\"].unique()"
      ],
      "metadata": {
        "colab": {
          "base_uri": "https://localhost:8080/"
        },
        "id": "rSd-t8vy1aXP",
        "outputId": "5c012dc0-0019-47b2-c944-8deb4a02d4c2"
      },
      "execution_count": 35,
      "outputs": [
        {
          "output_type": "execute_result",
          "data": {
            "text/plain": [
              "array([ 0,  1,  2,  3,  4,  5,  6,  7,  8,  9, 10, 11, 12, 13, 14, 15, 16,\n",
              "       17, 18, 20, 21, 22, 23, 24, 25, 27, 28, 29, 30, 19, 26, 31, 32, 33,\n",
              "       34, 35, 36, 37, 38, 39, 40, 41, 42, 43, 44, 45, 46, 47, 48, 49, 50,\n",
              "       51, 52, 53, 54, 55, 56, 57, 58, 59, 60, 61, 62, 63, 64, 65, 66, 67,\n",
              "       68, 69, 70, 71, 72])"
            ]
          },
          "metadata": {},
          "execution_count": 35
        }
      ]
    },
    {
      "cell_type": "code",
      "source": [
        "dfn[\"Código del tipo de habitación\"].unique()"
      ],
      "metadata": {
        "colab": {
          "base_uri": "https://localhost:8080/"
        },
        "id": "etYm9IQI1aUh",
        "outputId": "daf0da06-5d53-45e3-bff2-1bd78c20f551"
      },
      "execution_count": 36,
      "outputs": [
        {
          "output_type": "execute_result",
          "data": {
            "text/plain": [
              "array(['C', 'A', 'D', 'E', 'G', 'F', 'H', 'L', 'P', 'B'], dtype=object)"
            ]
          },
          "metadata": {},
          "execution_count": 36
        }
      ]
    },
    {
      "cell_type": "code",
      "source": [
        "dfn[\"Código del tipo de habitación asignado\"].unique()"
      ],
      "metadata": {
        "colab": {
          "base_uri": "https://localhost:8080/"
        },
        "id": "NHPpXvI913ic",
        "outputId": "1b70c3bd-2724-4156-aa41-93ab8be89adc"
      },
      "execution_count": 37,
      "outputs": [
        {
          "output_type": "execute_result",
          "data": {
            "text/plain": [
              "array(['C', 'A', 'D', 'E', 'G', 'F', 'I', 'B', 'H', 'P', 'L', 'K'],\n",
              "      dtype=object)"
            ]
          },
          "metadata": {},
          "execution_count": 37
        }
      ]
    },
    {
      "cell_type": "code",
      "source": [
        "dfn[\"Número de cambios en la reserva\"].unique()"
      ],
      "metadata": {
        "colab": {
          "base_uri": "https://localhost:8080/"
        },
        "id": "7RDZ6Nvj13fH",
        "outputId": "d622fe8e-0619-4f98-da8f-7ff79774ecee"
      },
      "execution_count": 38,
      "outputs": [
        {
          "output_type": "execute_result",
          "data": {
            "text/plain": [
              "array([ 3,  4,  0,  1,  2,  5, 17,  6,  8,  7, 10, 16,  9, 13, 12, 20, 14,\n",
              "       15, 11, 21, 18])"
            ]
          },
          "metadata": {},
          "execution_count": 38
        }
      ]
    },
    {
      "cell_type": "code",
      "source": [
        "dfn[\"Tipo de garantía\"].unique()"
      ],
      "metadata": {
        "colab": {
          "base_uri": "https://localhost:8080/"
        },
        "id": "Gte-mPDx13c2",
        "outputId": "ea060183-de5a-4e42-c69d-433847cee458"
      },
      "execution_count": 39,
      "outputs": [
        {
          "output_type": "execute_result",
          "data": {
            "text/plain": [
              "array(['Sin depósito', 'No reembolsable', 'Reembolsable'], dtype=object)"
            ]
          },
          "metadata": {},
          "execution_count": 39
        }
      ]
    },
    {
      "cell_type": "code",
      "source": [
        "dfn[\"Importe de la reserva\"].unique()"
      ],
      "metadata": {
        "colab": {
          "base_uri": "https://localhost:8080/"
        },
        "id": "jlpUc0dB13aU",
        "outputId": "9139d83e-31ad-47fc-cece-02026030186f"
      },
      "execution_count": 40,
      "outputs": [
        {
          "output_type": "execute_result",
          "data": {
            "text/plain": [
              "array([  0, 304, 240, 303,  15, 241,   8, 250, 115,   5, 175, 134, 156,\n",
              "       243, 242,   3, 105,  40, 147, 306, 184,  96,   2, 127,  95, 146,\n",
              "         9, 177,   6, 143, 244, 149, 167, 300, 171, 305,  67, 196, 152,\n",
              "       142, 261, 104,  36,  26,  29, 258, 110,  71, 181,  88, 251, 275,\n",
              "        69, 248, 208, 256, 314, 126, 281, 273, 253, 185, 330, 334, 328,\n",
              "       326, 321, 324, 313,  38, 155,  68, 335, 308, 332,  94, 348, 310,\n",
              "       339, 375,  66, 327, 387, 298,  91, 245, 385, 257, 393, 168, 405,\n",
              "       249, 315,  75, 128, 307,  11, 436,   1, 201, 183, 223, 368, 336,\n",
              "       291, 464, 411, 481,  10, 154, 468, 410, 390, 440, 495, 492, 493,\n",
              "       434,  57, 531, 420, 483, 526, 472, 429,  16, 446,  34,  78, 139,\n",
              "       252, 270,  47, 114, 301, 193, 182, 135, 350, 195, 352, 355, 159,\n",
              "       363, 384, 360, 331, 367,  64, 406, 163, 414, 333, 427, 431, 430,\n",
              "       426, 438, 433, 418, 441, 282, 432,  72, 450, 180, 454, 455,  59,\n",
              "       451, 254, 358, 469, 165, 467, 510, 337, 476, 502, 527, 479, 508,\n",
              "       535, 302, 497, 187,  13,   7,  27,  14,  22,  17,  28,  42,  20,\n",
              "        19,  45,  37,  61,  39,  21,  24,  41,  50,  30,  54,  52,  12,\n",
              "        44,  31,  83,  32,  63,  60,  55,  56,  89,  87, 118,  86,  85,\n",
              "       210, 214, 129, 179, 138, 174, 170, 153,  93, 151, 119,  35, 173,\n",
              "        58,  53, 133,  79, 235, 192, 191, 236, 162, 215, 157, 287, 132,\n",
              "       234,  98,  77, 103, 107, 262, 220, 121, 205, 378,  23, 296, 290,\n",
              "       229,  33, 286, 276, 425, 484, 323, 403, 219, 394, 509, 111, 423,\n",
              "         4,  70,  82,  81,  74,  92,  99,  90, 112, 117, 106, 148, 158,\n",
              "       144, 211, 213, 216, 232, 150, 267, 227, 247, 278, 280, 285, 289,\n",
              "       269, 295, 265, 288, 122, 294, 325, 341, 344, 346, 359, 283, 364,\n",
              "       370, 371,  25, 141, 391, 397, 416, 404, 299, 197,  73, 354, 444,\n",
              "       408, 461, 388, 453, 459, 474, 475, 480, 449])"
            ]
          },
          "metadata": {},
          "execution_count": 40
        }
      ]
    },
    {
      "cell_type": "code",
      "source": [
        "dfn[\"ID de la entidad de reserva\"].unique()"
      ],
      "metadata": {
        "colab": {
          "base_uri": "https://localhost:8080/"
        },
        "id": "4e41ae1813Uv",
        "outputId": "51a174b3-f4ec-47e6-f98c-3b235a48b9a6"
      },
      "execution_count": 41,
      "outputs": [
        {
          "output_type": "execute_result",
          "data": {
            "text/plain": [
              "array([  0,  50,  47,  65, 122,  75, 101, 150, 125,  14,  60,  34, 100,\n",
              "        22, 121,  61,  39,   5,   1,   8, 107,  43,  52,   2,  11, 142,\n",
              "       116,  13,  44,  97,  83,   4, 113,  18,  20, 185,  93, 109,   6,\n",
              "        37, 105, 154,  64,  99,  38,  48,  33,  77,  21,  80,  59,  40,\n",
              "        58,  89,  53,  49,  69,  87,  91,  57, 111,  79,  98,  85,  63,\n",
              "        15,   3,  41, 224,  31,  56, 187, 176,  71,  55,  96, 236, 259,\n",
              "       207, 215, 160, 120,  30,  32,  27,  62,  24, 108, 147, 379,  70,\n",
              "        35, 178, 330, 223, 174, 162, 391,  68, 193,  10,  76,  16,  28,\n",
              "         9, 165,  17,  25,  46,   7,  84, 175, 183,  23, 117,  12,  54,\n",
              "        26,  73,  45,  19,  42,  72,  81,  92,  74, 167,  36])"
            ]
          },
          "metadata": {},
          "execution_count": 41
        }
      ]
    },
    {
      "cell_type": "code",
      "source": [
        "dfn[\"Tipo de reserva\"].unique()"
      ],
      "metadata": {
        "colab": {
          "base_uri": "https://localhost:8080/"
        },
        "id": "5hERGWBX2So4",
        "outputId": "a01e3f1c-b63c-438e-86f2-61d0af0b4725"
      },
      "execution_count": 42,
      "outputs": [
        {
          "output_type": "execute_result",
          "data": {
            "text/plain": [
              "array(['Transient', 'Contract', 'Transient-Party', 'Group'], dtype=object)"
            ]
          },
          "metadata": {},
          "execution_count": 42
        }
      ]
    },
    {
      "cell_type": "code",
      "source": [
        "dfn[\"Días antes de confirmar\"].unique()"
      ],
      "metadata": {
        "colab": {
          "base_uri": "https://localhost:8080/"
        },
        "id": "YZ2MU4LE2Slo",
        "outputId": "09f3bed5-0531-49aa-d69e-71317615fb42"
      },
      "execution_count": 43,
      "outputs": [
        {
          "output_type": "execute_result",
          "data": {
            "text/plain": [
              "array([  0.  ,  75.  ,  98.  , ..., 266.75, 209.25, 157.71])"
            ]
          },
          "metadata": {},
          "execution_count": 43
        }
      ]
    },
    {
      "cell_type": "code",
      "source": [
        "dfn[\"Número de plazas de aparcamiento\"].unique()"
      ],
      "metadata": {
        "colab": {
          "base_uri": "https://localhost:8080/"
        },
        "id": "J3n5vyuP2Si4",
        "outputId": "c6b1cb79-2bab-4dae-cce6-4a5fe0b6df24"
      },
      "execution_count": 44,
      "outputs": [
        {
          "output_type": "execute_result",
          "data": {
            "text/plain": [
              "array([0, 1, 2, 8, 3])"
            ]
          },
          "metadata": {},
          "execution_count": 44
        }
      ]
    },
    {
      "cell_type": "code",
      "source": [
        "dfn[\"Número de peticiones\"].unique()"
      ],
      "metadata": {
        "colab": {
          "base_uri": "https://localhost:8080/"
        },
        "id": "pXxkQYuk2SgS",
        "outputId": "6dd83059-06d5-4a33-d8d2-828693ebe4a3"
      },
      "execution_count": 45,
      "outputs": [
        {
          "output_type": "execute_result",
          "data": {
            "text/plain": [
              "array([0, 1, 3, 2, 4, 5])"
            ]
          },
          "metadata": {},
          "execution_count": 45
        }
      ]
    },
    {
      "cell_type": "code",
      "source": [
        "dfn[\"Estado de la reserva\"].unique()"
      ],
      "metadata": {
        "colab": {
          "base_uri": "https://localhost:8080/"
        },
        "id": "3gdci_dN2SeR",
        "outputId": "76e75e21-d7cb-4968-d62e-67fa7a36b305"
      },
      "execution_count": 46,
      "outputs": [
        {
          "output_type": "execute_result",
          "data": {
            "text/plain": [
              "array(['Check-Out', 'Canceled', 'No-Show'], dtype=object)"
            ]
          },
          "metadata": {},
          "execution_count": 46
        }
      ]
    },
    {
      "cell_type": "markdown",
      "source": [
        "# **ANÁLISIS EXPLORATORIO DE DATOS**\n",
        "\n",
        "Realizamos un análisis de los principales indicadores estadísticos."
      ],
      "metadata": {
        "id": "QX_35F-i29JJ"
      }
    },
    {
      "cell_type": "code",
      "source": [
        "dfn.describe().transpose()"
      ],
      "metadata": {
        "colab": {
          "base_uri": "https://localhost:8080/",
          "height": 614
        },
        "id": "LRq4KMHy2Sb0",
        "outputId": "40716c8e-f8bf-4a61-b881-f9870278a46d"
      },
      "execution_count": 47,
      "outputs": [
        {
          "output_type": "execute_result",
          "data": {
            "text/plain": [
              "                                       count         mean         std  \\\n",
              "Días transcurridos                   91892.0    82.735886   88.704630   \n",
              "Año de llegada                       91892.0  2016.204958    0.688615   \n",
              "Número de semana del año de llegada  91892.0    26.900133   13.659019   \n",
              "Día de llegada                       91892.0    15.818058    8.826654   \n",
              "Número de noches de fin de semana    91892.0     0.999554    1.027195   \n",
              "Número de noches de la semana        91892.0     2.612893    2.035793   \n",
              "Adultos                              91892.0     1.873014    0.618755   \n",
              "Niños                                91892.0     0.133211    0.447459   \n",
              "Bebés                                91892.0     0.010306    0.110855   \n",
              "Cliente habitual                     91892.0     0.037522    0.190039   \n",
              "Cancelación previa                   91892.0     0.033137    0.396606   \n",
              "Reservas previas no canceladas       91892.0     0.175086    1.689479   \n",
              "Número de cambios en la reserva      91892.0     0.266411    0.718204   \n",
              "Importe de la reserva                91892.0    80.958919  110.022795   \n",
              "ID de la entidad de reserva          91892.0     0.935979   11.362529   \n",
              "Días antes de confirmar              91892.0   105.735050   54.315017   \n",
              "Número de plazas de aparcamiento     91892.0     0.080323    0.275492   \n",
              "Número de peticiones                 91892.0     0.690387    0.829820   \n",
              "\n",
              "                                         min     25%     50%     75%     max  \n",
              "Días transcurridos                      0.00    12.0    52.0   129.0   737.0  \n",
              "Año de llegada                       2015.00  2016.0  2016.0  2017.0  2017.0  \n",
              "Número de semana del año de llegada     1.00    16.0    27.0    37.0    53.0  \n",
              "Día de llegada                          1.00     8.0    16.0    23.0    31.0  \n",
              "Número de noches de fin de semana       0.00     0.0     1.0     2.0    19.0  \n",
              "Número de noches de la semana           0.00     1.0     2.0     3.0    50.0  \n",
              "Adultos                                 0.00     2.0     2.0     2.0    55.0  \n",
              "Niños                                   0.00     0.0     0.0     0.0    10.0  \n",
              "Bebés                                   0.00     0.0     0.0     0.0    10.0  \n",
              "Cliente habitual                        0.00     0.0     0.0     0.0     1.0  \n",
              "Cancelación previa                      0.00     0.0     0.0     0.0    26.0  \n",
              "Reservas previas no canceladas          0.00     0.0     0.0     0.0    72.0  \n",
              "Número de cambios en la reserva         0.00     0.0     0.0     0.0    21.0  \n",
              "Importe de la reserva                   0.00     9.0     9.0   229.0   535.0  \n",
              "ID de la entidad de reserva             0.00     0.0     0.0     0.0   391.0  \n",
              "Días antes de confirmar                -6.38    72.0    98.0   132.6  5400.0  \n",
              "Número de plazas de aparcamiento        0.00     0.0     0.0     0.0     8.0  \n",
              "Número de peticiones                    0.00     0.0     0.0     1.0     5.0  "
            ],
            "text/html": [
              "\n",
              "  <div id=\"df-486cd40a-8d93-4255-92a5-217680222967\" class=\"colab-df-container\">\n",
              "    <div>\n",
              "<style scoped>\n",
              "    .dataframe tbody tr th:only-of-type {\n",
              "        vertical-align: middle;\n",
              "    }\n",
              "\n",
              "    .dataframe tbody tr th {\n",
              "        vertical-align: top;\n",
              "    }\n",
              "\n",
              "    .dataframe thead th {\n",
              "        text-align: right;\n",
              "    }\n",
              "</style>\n",
              "<table border=\"1\" class=\"dataframe\">\n",
              "  <thead>\n",
              "    <tr style=\"text-align: right;\">\n",
              "      <th></th>\n",
              "      <th>count</th>\n",
              "      <th>mean</th>\n",
              "      <th>std</th>\n",
              "      <th>min</th>\n",
              "      <th>25%</th>\n",
              "      <th>50%</th>\n",
              "      <th>75%</th>\n",
              "      <th>max</th>\n",
              "    </tr>\n",
              "  </thead>\n",
              "  <tbody>\n",
              "    <tr>\n",
              "      <th>Días transcurridos</th>\n",
              "      <td>91892.0</td>\n",
              "      <td>82.735886</td>\n",
              "      <td>88.704630</td>\n",
              "      <td>0.00</td>\n",
              "      <td>12.0</td>\n",
              "      <td>52.0</td>\n",
              "      <td>129.0</td>\n",
              "      <td>737.0</td>\n",
              "    </tr>\n",
              "    <tr>\n",
              "      <th>Año de llegada</th>\n",
              "      <td>91892.0</td>\n",
              "      <td>2016.204958</td>\n",
              "      <td>0.688615</td>\n",
              "      <td>2015.00</td>\n",
              "      <td>2016.0</td>\n",
              "      <td>2016.0</td>\n",
              "      <td>2017.0</td>\n",
              "      <td>2017.0</td>\n",
              "    </tr>\n",
              "    <tr>\n",
              "      <th>Número de semana del año de llegada</th>\n",
              "      <td>91892.0</td>\n",
              "      <td>26.900133</td>\n",
              "      <td>13.659019</td>\n",
              "      <td>1.00</td>\n",
              "      <td>16.0</td>\n",
              "      <td>27.0</td>\n",
              "      <td>37.0</td>\n",
              "      <td>53.0</td>\n",
              "    </tr>\n",
              "    <tr>\n",
              "      <th>Día de llegada</th>\n",
              "      <td>91892.0</td>\n",
              "      <td>15.818058</td>\n",
              "      <td>8.826654</td>\n",
              "      <td>1.00</td>\n",
              "      <td>8.0</td>\n",
              "      <td>16.0</td>\n",
              "      <td>23.0</td>\n",
              "      <td>31.0</td>\n",
              "    </tr>\n",
              "    <tr>\n",
              "      <th>Número de noches de fin de semana</th>\n",
              "      <td>91892.0</td>\n",
              "      <td>0.999554</td>\n",
              "      <td>1.027195</td>\n",
              "      <td>0.00</td>\n",
              "      <td>0.0</td>\n",
              "      <td>1.0</td>\n",
              "      <td>2.0</td>\n",
              "      <td>19.0</td>\n",
              "    </tr>\n",
              "    <tr>\n",
              "      <th>Número de noches de la semana</th>\n",
              "      <td>91892.0</td>\n",
              "      <td>2.612893</td>\n",
              "      <td>2.035793</td>\n",
              "      <td>0.00</td>\n",
              "      <td>1.0</td>\n",
              "      <td>2.0</td>\n",
              "      <td>3.0</td>\n",
              "      <td>50.0</td>\n",
              "    </tr>\n",
              "    <tr>\n",
              "      <th>Adultos</th>\n",
              "      <td>91892.0</td>\n",
              "      <td>1.873014</td>\n",
              "      <td>0.618755</td>\n",
              "      <td>0.00</td>\n",
              "      <td>2.0</td>\n",
              "      <td>2.0</td>\n",
              "      <td>2.0</td>\n",
              "      <td>55.0</td>\n",
              "    </tr>\n",
              "    <tr>\n",
              "      <th>Niños</th>\n",
              "      <td>91892.0</td>\n",
              "      <td>0.133211</td>\n",
              "      <td>0.447459</td>\n",
              "      <td>0.00</td>\n",
              "      <td>0.0</td>\n",
              "      <td>0.0</td>\n",
              "      <td>0.0</td>\n",
              "      <td>10.0</td>\n",
              "    </tr>\n",
              "    <tr>\n",
              "      <th>Bebés</th>\n",
              "      <td>91892.0</td>\n",
              "      <td>0.010306</td>\n",
              "      <td>0.110855</td>\n",
              "      <td>0.00</td>\n",
              "      <td>0.0</td>\n",
              "      <td>0.0</td>\n",
              "      <td>0.0</td>\n",
              "      <td>10.0</td>\n",
              "    </tr>\n",
              "    <tr>\n",
              "      <th>Cliente habitual</th>\n",
              "      <td>91892.0</td>\n",
              "      <td>0.037522</td>\n",
              "      <td>0.190039</td>\n",
              "      <td>0.00</td>\n",
              "      <td>0.0</td>\n",
              "      <td>0.0</td>\n",
              "      <td>0.0</td>\n",
              "      <td>1.0</td>\n",
              "    </tr>\n",
              "    <tr>\n",
              "      <th>Cancelación previa</th>\n",
              "      <td>91892.0</td>\n",
              "      <td>0.033137</td>\n",
              "      <td>0.396606</td>\n",
              "      <td>0.00</td>\n",
              "      <td>0.0</td>\n",
              "      <td>0.0</td>\n",
              "      <td>0.0</td>\n",
              "      <td>26.0</td>\n",
              "    </tr>\n",
              "    <tr>\n",
              "      <th>Reservas previas no canceladas</th>\n",
              "      <td>91892.0</td>\n",
              "      <td>0.175086</td>\n",
              "      <td>1.689479</td>\n",
              "      <td>0.00</td>\n",
              "      <td>0.0</td>\n",
              "      <td>0.0</td>\n",
              "      <td>0.0</td>\n",
              "      <td>72.0</td>\n",
              "    </tr>\n",
              "    <tr>\n",
              "      <th>Número de cambios en la reserva</th>\n",
              "      <td>91892.0</td>\n",
              "      <td>0.266411</td>\n",
              "      <td>0.718204</td>\n",
              "      <td>0.00</td>\n",
              "      <td>0.0</td>\n",
              "      <td>0.0</td>\n",
              "      <td>0.0</td>\n",
              "      <td>21.0</td>\n",
              "    </tr>\n",
              "    <tr>\n",
              "      <th>Importe de la reserva</th>\n",
              "      <td>91892.0</td>\n",
              "      <td>80.958919</td>\n",
              "      <td>110.022795</td>\n",
              "      <td>0.00</td>\n",
              "      <td>9.0</td>\n",
              "      <td>9.0</td>\n",
              "      <td>229.0</td>\n",
              "      <td>535.0</td>\n",
              "    </tr>\n",
              "    <tr>\n",
              "      <th>ID de la entidad de reserva</th>\n",
              "      <td>91892.0</td>\n",
              "      <td>0.935979</td>\n",
              "      <td>11.362529</td>\n",
              "      <td>0.00</td>\n",
              "      <td>0.0</td>\n",
              "      <td>0.0</td>\n",
              "      <td>0.0</td>\n",
              "      <td>391.0</td>\n",
              "    </tr>\n",
              "    <tr>\n",
              "      <th>Días antes de confirmar</th>\n",
              "      <td>91892.0</td>\n",
              "      <td>105.735050</td>\n",
              "      <td>54.315017</td>\n",
              "      <td>-6.38</td>\n",
              "      <td>72.0</td>\n",
              "      <td>98.0</td>\n",
              "      <td>132.6</td>\n",
              "      <td>5400.0</td>\n",
              "    </tr>\n",
              "    <tr>\n",
              "      <th>Número de plazas de aparcamiento</th>\n",
              "      <td>91892.0</td>\n",
              "      <td>0.080323</td>\n",
              "      <td>0.275492</td>\n",
              "      <td>0.00</td>\n",
              "      <td>0.0</td>\n",
              "      <td>0.0</td>\n",
              "      <td>0.0</td>\n",
              "      <td>8.0</td>\n",
              "    </tr>\n",
              "    <tr>\n",
              "      <th>Número de peticiones</th>\n",
              "      <td>91892.0</td>\n",
              "      <td>0.690387</td>\n",
              "      <td>0.829820</td>\n",
              "      <td>0.00</td>\n",
              "      <td>0.0</td>\n",
              "      <td>0.0</td>\n",
              "      <td>1.0</td>\n",
              "      <td>5.0</td>\n",
              "    </tr>\n",
              "  </tbody>\n",
              "</table>\n",
              "</div>\n",
              "    <div class=\"colab-df-buttons\">\n",
              "\n",
              "  <div class=\"colab-df-container\">\n",
              "    <button class=\"colab-df-convert\" onclick=\"convertToInteractive('df-486cd40a-8d93-4255-92a5-217680222967')\"\n",
              "            title=\"Convert this dataframe to an interactive table.\"\n",
              "            style=\"display:none;\">\n",
              "\n",
              "  <svg xmlns=\"http://www.w3.org/2000/svg\" height=\"24px\" viewBox=\"0 -960 960 960\">\n",
              "    <path d=\"M120-120v-720h720v720H120Zm60-500h600v-160H180v160Zm220 220h160v-160H400v160Zm0 220h160v-160H400v160ZM180-400h160v-160H180v160Zm440 0h160v-160H620v160ZM180-180h160v-160H180v160Zm440 0h160v-160H620v160Z\"/>\n",
              "  </svg>\n",
              "    </button>\n",
              "\n",
              "  <style>\n",
              "    .colab-df-container {\n",
              "      display:flex;\n",
              "      gap: 12px;\n",
              "    }\n",
              "\n",
              "    .colab-df-convert {\n",
              "      background-color: #E8F0FE;\n",
              "      border: none;\n",
              "      border-radius: 50%;\n",
              "      cursor: pointer;\n",
              "      display: none;\n",
              "      fill: #1967D2;\n",
              "      height: 32px;\n",
              "      padding: 0 0 0 0;\n",
              "      width: 32px;\n",
              "    }\n",
              "\n",
              "    .colab-df-convert:hover {\n",
              "      background-color: #E2EBFA;\n",
              "      box-shadow: 0px 1px 2px rgba(60, 64, 67, 0.3), 0px 1px 3px 1px rgba(60, 64, 67, 0.15);\n",
              "      fill: #174EA6;\n",
              "    }\n",
              "\n",
              "    .colab-df-buttons div {\n",
              "      margin-bottom: 4px;\n",
              "    }\n",
              "\n",
              "    [theme=dark] .colab-df-convert {\n",
              "      background-color: #3B4455;\n",
              "      fill: #D2E3FC;\n",
              "    }\n",
              "\n",
              "    [theme=dark] .colab-df-convert:hover {\n",
              "      background-color: #434B5C;\n",
              "      box-shadow: 0px 1px 3px 1px rgba(0, 0, 0, 0.15);\n",
              "      filter: drop-shadow(0px 1px 2px rgba(0, 0, 0, 0.3));\n",
              "      fill: #FFFFFF;\n",
              "    }\n",
              "  </style>\n",
              "\n",
              "    <script>\n",
              "      const buttonEl =\n",
              "        document.querySelector('#df-486cd40a-8d93-4255-92a5-217680222967 button.colab-df-convert');\n",
              "      buttonEl.style.display =\n",
              "        google.colab.kernel.accessAllowed ? 'block' : 'none';\n",
              "\n",
              "      async function convertToInteractive(key) {\n",
              "        const element = document.querySelector('#df-486cd40a-8d93-4255-92a5-217680222967');\n",
              "        const dataTable =\n",
              "          await google.colab.kernel.invokeFunction('convertToInteractive',\n",
              "                                                    [key], {});\n",
              "        if (!dataTable) return;\n",
              "\n",
              "        const docLinkHtml = 'Like what you see? Visit the ' +\n",
              "          '<a target=\"_blank\" href=https://colab.research.google.com/notebooks/data_table.ipynb>data table notebook</a>'\n",
              "          + ' to learn more about interactive tables.';\n",
              "        element.innerHTML = '';\n",
              "        dataTable['output_type'] = 'display_data';\n",
              "        await google.colab.output.renderOutput(dataTable, element);\n",
              "        const docLink = document.createElement('div');\n",
              "        docLink.innerHTML = docLinkHtml;\n",
              "        element.appendChild(docLink);\n",
              "      }\n",
              "    </script>\n",
              "  </div>\n",
              "\n",
              "\n",
              "<div id=\"df-d64de201-04ef-4bd3-b8ef-2981a2498179\">\n",
              "  <button class=\"colab-df-quickchart\" onclick=\"quickchart('df-d64de201-04ef-4bd3-b8ef-2981a2498179')\"\n",
              "            title=\"Suggest charts\"\n",
              "            style=\"display:none;\">\n",
              "\n",
              "<svg xmlns=\"http://www.w3.org/2000/svg\" height=\"24px\"viewBox=\"0 0 24 24\"\n",
              "     width=\"24px\">\n",
              "    <g>\n",
              "        <path d=\"M19 3H5c-1.1 0-2 .9-2 2v14c0 1.1.9 2 2 2h14c1.1 0 2-.9 2-2V5c0-1.1-.9-2-2-2zM9 17H7v-7h2v7zm4 0h-2V7h2v10zm4 0h-2v-4h2v4z\"/>\n",
              "    </g>\n",
              "</svg>\n",
              "  </button>\n",
              "\n",
              "<style>\n",
              "  .colab-df-quickchart {\n",
              "      --bg-color: #E8F0FE;\n",
              "      --fill-color: #1967D2;\n",
              "      --hover-bg-color: #E2EBFA;\n",
              "      --hover-fill-color: #174EA6;\n",
              "      --disabled-fill-color: #AAA;\n",
              "      --disabled-bg-color: #DDD;\n",
              "  }\n",
              "\n",
              "  [theme=dark] .colab-df-quickchart {\n",
              "      --bg-color: #3B4455;\n",
              "      --fill-color: #D2E3FC;\n",
              "      --hover-bg-color: #434B5C;\n",
              "      --hover-fill-color: #FFFFFF;\n",
              "      --disabled-bg-color: #3B4455;\n",
              "      --disabled-fill-color: #666;\n",
              "  }\n",
              "\n",
              "  .colab-df-quickchart {\n",
              "    background-color: var(--bg-color);\n",
              "    border: none;\n",
              "    border-radius: 50%;\n",
              "    cursor: pointer;\n",
              "    display: none;\n",
              "    fill: var(--fill-color);\n",
              "    height: 32px;\n",
              "    padding: 0;\n",
              "    width: 32px;\n",
              "  }\n",
              "\n",
              "  .colab-df-quickchart:hover {\n",
              "    background-color: var(--hover-bg-color);\n",
              "    box-shadow: 0 1px 2px rgba(60, 64, 67, 0.3), 0 1px 3px 1px rgba(60, 64, 67, 0.15);\n",
              "    fill: var(--button-hover-fill-color);\n",
              "  }\n",
              "\n",
              "  .colab-df-quickchart-complete:disabled,\n",
              "  .colab-df-quickchart-complete:disabled:hover {\n",
              "    background-color: var(--disabled-bg-color);\n",
              "    fill: var(--disabled-fill-color);\n",
              "    box-shadow: none;\n",
              "  }\n",
              "\n",
              "  .colab-df-spinner {\n",
              "    border: 2px solid var(--fill-color);\n",
              "    border-color: transparent;\n",
              "    border-bottom-color: var(--fill-color);\n",
              "    animation:\n",
              "      spin 1s steps(1) infinite;\n",
              "  }\n",
              "\n",
              "  @keyframes spin {\n",
              "    0% {\n",
              "      border-color: transparent;\n",
              "      border-bottom-color: var(--fill-color);\n",
              "      border-left-color: var(--fill-color);\n",
              "    }\n",
              "    20% {\n",
              "      border-color: transparent;\n",
              "      border-left-color: var(--fill-color);\n",
              "      border-top-color: var(--fill-color);\n",
              "    }\n",
              "    30% {\n",
              "      border-color: transparent;\n",
              "      border-left-color: var(--fill-color);\n",
              "      border-top-color: var(--fill-color);\n",
              "      border-right-color: var(--fill-color);\n",
              "    }\n",
              "    40% {\n",
              "      border-color: transparent;\n",
              "      border-right-color: var(--fill-color);\n",
              "      border-top-color: var(--fill-color);\n",
              "    }\n",
              "    60% {\n",
              "      border-color: transparent;\n",
              "      border-right-color: var(--fill-color);\n",
              "    }\n",
              "    80% {\n",
              "      border-color: transparent;\n",
              "      border-right-color: var(--fill-color);\n",
              "      border-bottom-color: var(--fill-color);\n",
              "    }\n",
              "    90% {\n",
              "      border-color: transparent;\n",
              "      border-bottom-color: var(--fill-color);\n",
              "    }\n",
              "  }\n",
              "</style>\n",
              "\n",
              "  <script>\n",
              "    async function quickchart(key) {\n",
              "      const quickchartButtonEl =\n",
              "        document.querySelector('#' + key + ' button');\n",
              "      quickchartButtonEl.disabled = true;  // To prevent multiple clicks.\n",
              "      quickchartButtonEl.classList.add('colab-df-spinner');\n",
              "      try {\n",
              "        const charts = await google.colab.kernel.invokeFunction(\n",
              "            'suggestCharts', [key], {});\n",
              "      } catch (error) {\n",
              "        console.error('Error during call to suggestCharts:', error);\n",
              "      }\n",
              "      quickchartButtonEl.classList.remove('colab-df-spinner');\n",
              "      quickchartButtonEl.classList.add('colab-df-quickchart-complete');\n",
              "    }\n",
              "    (() => {\n",
              "      let quickchartButtonEl =\n",
              "        document.querySelector('#df-d64de201-04ef-4bd3-b8ef-2981a2498179 button');\n",
              "      quickchartButtonEl.style.display =\n",
              "        google.colab.kernel.accessAllowed ? 'block' : 'none';\n",
              "    })();\n",
              "  </script>\n",
              "</div>\n",
              "\n",
              "    </div>\n",
              "  </div>\n"
            ],
            "application/vnd.google.colaboratory.intrinsic+json": {
              "type": "dataframe",
              "summary": "{\n  \"name\": \"dfn\",\n  \"rows\": 18,\n  \"fields\": [\n    {\n      \"column\": \"count\",\n      \"properties\": {\n        \"dtype\": \"number\",\n        \"std\": 0.0,\n        \"min\": 91892.0,\n        \"max\": 91892.0,\n        \"num_unique_values\": 1,\n        \"samples\": [\n          91892.0\n        ],\n        \"semantic_type\": \"\",\n        \"description\": \"\"\n      }\n    },\n    {\n      \"column\": \"mean\",\n      \"properties\": {\n        \"dtype\": \"number\",\n        \"std\": 472.006700734657,\n        \"min\": 0.010305576111086928,\n        \"max\": 2016.204957994167,\n        \"num_unique_values\": 18,\n        \"samples\": [\n          82.73588560484046\n        ],\n        \"semantic_type\": \"\",\n        \"description\": \"\"\n      }\n    },\n    {\n      \"column\": \"std\",\n      \"properties\": {\n        \"dtype\": \"number\",\n        \"std\": 32.95535331265947,\n        \"min\": 0.11085537538084302,\n        \"max\": 110.02279509872713,\n        \"num_unique_values\": 18,\n        \"samples\": [\n          88.70462977967725\n        ],\n        \"semantic_type\": \"\",\n        \"description\": \"\"\n      }\n    },\n    {\n      \"column\": \"min\",\n      \"properties\": {\n        \"dtype\": \"number\",\n        \"std\": 475.00335703939277,\n        \"min\": -6.38,\n        \"max\": 2015.0,\n        \"num_unique_values\": 4,\n        \"samples\": [\n          2015.0\n        ],\n        \"semantic_type\": \"\",\n        \"description\": \"\"\n      }\n    },\n    {\n      \"column\": \"25%\",\n      \"properties\": {\n        \"dtype\": \"number\",\n        \"std\": 473.81542695814517,\n        \"min\": 0.0,\n        \"max\": 2016.0,\n        \"num_unique_values\": 9,\n        \"samples\": [\n          9.0\n        ],\n        \"semantic_type\": \"\",\n        \"description\": \"\"\n      }\n    },\n    {\n      \"column\": \"50%\",\n      \"properties\": {\n        \"dtype\": \"number\",\n        \"std\": 472.9816872465447,\n        \"min\": 0.0,\n        \"max\": 2016.0,\n        \"num_unique_values\": 9,\n        \"samples\": [\n          9.0\n        ],\n        \"semantic_type\": \"\",\n        \"description\": \"\"\n      }\n    },\n    {\n      \"column\": \"75%\",\n      \"properties\": {\n        \"dtype\": \"number\",\n        \"std\": 472.062434665397,\n        \"min\": 0.0,\n        \"max\": 2017.0,\n        \"num_unique_values\": 10,\n        \"samples\": [\n          132.6\n        ],\n        \"semantic_type\": \"\",\n        \"description\": \"\"\n      }\n    },\n    {\n      \"column\": \"max\",\n      \"properties\": {\n        \"dtype\": \"number\",\n        \"std\": 1312.272534911233,\n        \"min\": 1.0,\n        \"max\": 5400.0,\n        \"num_unique_values\": 17,\n        \"samples\": [\n          737.0\n        ],\n        \"semantic_type\": \"\",\n        \"description\": \"\"\n      }\n    }\n  ]\n}"
            }
          },
          "metadata": {},
          "execution_count": 47
        }
      ]
    },
    {
      "cell_type": "markdown",
      "source": [
        "Analizamos las cancelaciones de las reservas, ¿cuánto es la tasa de cancelación de reservas?"
      ],
      "metadata": {
        "id": "hKh5ljz18R_v"
      }
    },
    {
      "cell_type": "code",
      "source": [
        "dfn [\"Reserva cancelada\"].value_counts()"
      ],
      "metadata": {
        "colab": {
          "base_uri": "https://localhost:8080/"
        },
        "id": "EUGepaNj8j8e",
        "outputId": "8beac84b-7833-4087-9c4b-7d36ef3edffa"
      },
      "execution_count": 48,
      "outputs": [
        {
          "output_type": "execute_result",
          "data": {
            "text/plain": [
              "No    65991\n",
              "Si    25901\n",
              "Name: Reserva cancelada, dtype: int64"
            ]
          },
          "metadata": {},
          "execution_count": 48
        }
      ]
    },
    {
      "cell_type": "markdown",
      "source": [
        "Convertimos las celdas en formato de texto binario (Si/No) a formato de texto numérico (1/0)."
      ],
      "metadata": {
        "id": "ZnRhQ2cEXSEc"
      }
    },
    {
      "cell_type": "code",
      "source": [
        "def texto_binario(texto, val=\"Si\"):\n",
        "    if texto == val:\n",
        "        return 1\n",
        "    else:\n",
        "        return 0"
      ],
      "metadata": {
        "id": "CMjChTWuGYD-"
      },
      "execution_count": 49,
      "outputs": []
    },
    {
      "cell_type": "code",
      "source": [
        "dfn[\"Reserva cancelada\"]=df[\"Reserva cancelada\"].apply(texto_binario)"
      ],
      "metadata": {
        "id": "3d62JUBRXEJl"
      },
      "execution_count": 50,
      "outputs": []
    },
    {
      "cell_type": "code",
      "source": [
        "dfn.head(1)"
      ],
      "metadata": {
        "id": "efzv-aYf2RZ_",
        "colab": {
          "base_uri": "https://localhost:8080/",
          "height": 234
        },
        "outputId": "56040852-385c-43bd-fb2e-d52f28369d48"
      },
      "execution_count": 51,
      "outputs": [
        {
          "output_type": "execute_result",
          "data": {
            "text/plain": [
              "  Tipo de Hotel  Reserva cancelada  Días transcurridos  Año de llegada  \\\n",
              "0  Resort Hotel                  0                 342            2015   \n",
              "\n",
              "  Mes de llegada  Número de semana del año de llegada  Día de llegada  \\\n",
              "0           July                                   27               1   \n",
              "\n",
              "   Número de noches de fin de semana  Número de noches de la semana  Adultos  \\\n",
              "0                                  0                              0        2   \n",
              "\n",
              "   ...  Código del tipo de habitación asignado  \\\n",
              "0  ...                                       C   \n",
              "\n",
              "   Número de cambios en la reserva Tipo de garantía Importe de la reserva  \\\n",
              "0                                3     Sin depósito                     0   \n",
              "\n",
              "  ID de la entidad de reserva Tipo de reserva  Días antes de confirmar  \\\n",
              "0                           0       Transient                      0.0   \n",
              "\n",
              "   Número de plazas de aparcamiento  Número de peticiones Estado de la reserva  \n",
              "0                                 0                     0            Check-Out  \n",
              "\n",
              "[1 rows x 30 columns]"
            ],
            "text/html": [
              "\n",
              "  <div id=\"df-de4576ce-0f8c-4347-b95e-c6bb7665d631\" class=\"colab-df-container\">\n",
              "    <div>\n",
              "<style scoped>\n",
              "    .dataframe tbody tr th:only-of-type {\n",
              "        vertical-align: middle;\n",
              "    }\n",
              "\n",
              "    .dataframe tbody tr th {\n",
              "        vertical-align: top;\n",
              "    }\n",
              "\n",
              "    .dataframe thead th {\n",
              "        text-align: right;\n",
              "    }\n",
              "</style>\n",
              "<table border=\"1\" class=\"dataframe\">\n",
              "  <thead>\n",
              "    <tr style=\"text-align: right;\">\n",
              "      <th></th>\n",
              "      <th>Tipo de Hotel</th>\n",
              "      <th>Reserva cancelada</th>\n",
              "      <th>Días transcurridos</th>\n",
              "      <th>Año de llegada</th>\n",
              "      <th>Mes de llegada</th>\n",
              "      <th>Número de semana del año de llegada</th>\n",
              "      <th>Día de llegada</th>\n",
              "      <th>Número de noches de fin de semana</th>\n",
              "      <th>Número de noches de la semana</th>\n",
              "      <th>Adultos</th>\n",
              "      <th>...</th>\n",
              "      <th>Código del tipo de habitación asignado</th>\n",
              "      <th>Número de cambios en la reserva</th>\n",
              "      <th>Tipo de garantía</th>\n",
              "      <th>Importe de la reserva</th>\n",
              "      <th>ID de la entidad de reserva</th>\n",
              "      <th>Tipo de reserva</th>\n",
              "      <th>Días antes de confirmar</th>\n",
              "      <th>Número de plazas de aparcamiento</th>\n",
              "      <th>Número de peticiones</th>\n",
              "      <th>Estado de la reserva</th>\n",
              "    </tr>\n",
              "  </thead>\n",
              "  <tbody>\n",
              "    <tr>\n",
              "      <th>0</th>\n",
              "      <td>Resort Hotel</td>\n",
              "      <td>0</td>\n",
              "      <td>342</td>\n",
              "      <td>2015</td>\n",
              "      <td>July</td>\n",
              "      <td>27</td>\n",
              "      <td>1</td>\n",
              "      <td>0</td>\n",
              "      <td>0</td>\n",
              "      <td>2</td>\n",
              "      <td>...</td>\n",
              "      <td>C</td>\n",
              "      <td>3</td>\n",
              "      <td>Sin depósito</td>\n",
              "      <td>0</td>\n",
              "      <td>0</td>\n",
              "      <td>Transient</td>\n",
              "      <td>0.0</td>\n",
              "      <td>0</td>\n",
              "      <td>0</td>\n",
              "      <td>Check-Out</td>\n",
              "    </tr>\n",
              "  </tbody>\n",
              "</table>\n",
              "<p>1 rows × 30 columns</p>\n",
              "</div>\n",
              "    <div class=\"colab-df-buttons\">\n",
              "\n",
              "  <div class=\"colab-df-container\">\n",
              "    <button class=\"colab-df-convert\" onclick=\"convertToInteractive('df-de4576ce-0f8c-4347-b95e-c6bb7665d631')\"\n",
              "            title=\"Convert this dataframe to an interactive table.\"\n",
              "            style=\"display:none;\">\n",
              "\n",
              "  <svg xmlns=\"http://www.w3.org/2000/svg\" height=\"24px\" viewBox=\"0 -960 960 960\">\n",
              "    <path d=\"M120-120v-720h720v720H120Zm60-500h600v-160H180v160Zm220 220h160v-160H400v160Zm0 220h160v-160H400v160ZM180-400h160v-160H180v160Zm440 0h160v-160H620v160ZM180-180h160v-160H180v160Zm440 0h160v-160H620v160Z\"/>\n",
              "  </svg>\n",
              "    </button>\n",
              "\n",
              "  <style>\n",
              "    .colab-df-container {\n",
              "      display:flex;\n",
              "      gap: 12px;\n",
              "    }\n",
              "\n",
              "    .colab-df-convert {\n",
              "      background-color: #E8F0FE;\n",
              "      border: none;\n",
              "      border-radius: 50%;\n",
              "      cursor: pointer;\n",
              "      display: none;\n",
              "      fill: #1967D2;\n",
              "      height: 32px;\n",
              "      padding: 0 0 0 0;\n",
              "      width: 32px;\n",
              "    }\n",
              "\n",
              "    .colab-df-convert:hover {\n",
              "      background-color: #E2EBFA;\n",
              "      box-shadow: 0px 1px 2px rgba(60, 64, 67, 0.3), 0px 1px 3px 1px rgba(60, 64, 67, 0.15);\n",
              "      fill: #174EA6;\n",
              "    }\n",
              "\n",
              "    .colab-df-buttons div {\n",
              "      margin-bottom: 4px;\n",
              "    }\n",
              "\n",
              "    [theme=dark] .colab-df-convert {\n",
              "      background-color: #3B4455;\n",
              "      fill: #D2E3FC;\n",
              "    }\n",
              "\n",
              "    [theme=dark] .colab-df-convert:hover {\n",
              "      background-color: #434B5C;\n",
              "      box-shadow: 0px 1px 3px 1px rgba(0, 0, 0, 0.15);\n",
              "      filter: drop-shadow(0px 1px 2px rgba(0, 0, 0, 0.3));\n",
              "      fill: #FFFFFF;\n",
              "    }\n",
              "  </style>\n",
              "\n",
              "    <script>\n",
              "      const buttonEl =\n",
              "        document.querySelector('#df-de4576ce-0f8c-4347-b95e-c6bb7665d631 button.colab-df-convert');\n",
              "      buttonEl.style.display =\n",
              "        google.colab.kernel.accessAllowed ? 'block' : 'none';\n",
              "\n",
              "      async function convertToInteractive(key) {\n",
              "        const element = document.querySelector('#df-de4576ce-0f8c-4347-b95e-c6bb7665d631');\n",
              "        const dataTable =\n",
              "          await google.colab.kernel.invokeFunction('convertToInteractive',\n",
              "                                                    [key], {});\n",
              "        if (!dataTable) return;\n",
              "\n",
              "        const docLinkHtml = 'Like what you see? Visit the ' +\n",
              "          '<a target=\"_blank\" href=https://colab.research.google.com/notebooks/data_table.ipynb>data table notebook</a>'\n",
              "          + ' to learn more about interactive tables.';\n",
              "        element.innerHTML = '';\n",
              "        dataTable['output_type'] = 'display_data';\n",
              "        await google.colab.output.renderOutput(dataTable, element);\n",
              "        const docLink = document.createElement('div');\n",
              "        docLink.innerHTML = docLinkHtml;\n",
              "        element.appendChild(docLink);\n",
              "      }\n",
              "    </script>\n",
              "  </div>\n",
              "\n",
              "\n",
              "    </div>\n",
              "  </div>\n"
            ],
            "application/vnd.google.colaboratory.intrinsic+json": {
              "type": "dataframe",
              "variable_name": "dfn"
            }
          },
          "metadata": {},
          "execution_count": 51
        }
      ]
    },
    {
      "cell_type": "markdown",
      "source": [],
      "metadata": {
        "id": "CxPPUu6uZj3t"
      }
    },
    {
      "cell_type": "code",
      "source": [
        "import matplotlib.pyplot as plt"
      ],
      "metadata": {
        "id": "CK_1eJaz2RWy"
      },
      "execution_count": 65,
      "outputs": []
    },
    {
      "cell_type": "code",
      "source": [
        "fig, ax = plt.subplots()\n",
        "ax.scatter(dfn ['Días transcurridos'], dfn['Número de cambios en la reserva'])\n",
        "ax.set_title('Relación días transcurridos desde la reserva/cambios en reserva')\n",
        "ax.set_xlabel('Días transcurridos')\n",
        "ax.set_ylabel('Cambios en la reserva')"
      ],
      "metadata": {
        "colab": {
          "base_uri": "https://localhost:8080/",
          "height": 489
        },
        "id": "rLoh_uEdd-Cj",
        "outputId": "f53c0adb-4b7f-4fe7-c37b-8120cac3aed5"
      },
      "execution_count": 83,
      "outputs": [
        {
          "output_type": "execute_result",
          "data": {
            "text/plain": [
              "Text(0, 0.5, 'Cambios en la reserva')"
            ]
          },
          "metadata": {},
          "execution_count": 83
        },
        {
          "output_type": "display_data",
          "data": {
            "text/plain": [
              "<Figure size 640x480 with 1 Axes>"
            ],
            "image/png": "[encoded data removed]"
          },
          "metadata": {}
        }
      ]
    },
    {
      "cell_type": "markdown",
      "source": [
        "Observamos que a medida que más días transcurren desde que se realizó la reserva menos son los cambios que solicitan los clientes."
      ],
      "metadata": {
        "id": "sPHzm90YplbX"
      }
    },
    {
      "cell_type": "code",
      "source": [
        "fig, ax = plt.subplots(figsize=(8,4))\n",
        "ax.bar(dfn['Tipo de Hotel'], dfn['Adultos'])\n",
        "ax.set_title('Cantidad de personas adultas por tipo de hotel')\n",
        "ax.set_ylabel('Cantidad de personas adultas')\n",
        "ax.set_xlabel('Tipo de Hotel')"
      ],
      "metadata": {
        "colab": {
          "base_uri": "https://localhost:8080/",
          "height": 427
        },
        "id": "opvG1ZI0qClz",
        "outputId": "0b668e20-010b-4381-eab0-f9c445db1d94"
      },
      "execution_count": 95,
      "outputs": [
        {
          "output_type": "execute_result",
          "data": {
            "text/plain": [
              "Text(0.5, 0, 'Tipo de Hotel')"
            ]
          },
          "metadata": {},
          "execution_count": 95
        },
        {
          "output_type": "display_data",
          "data": {
            "text/plain": [
              "<Figure size 800x400 with 1 Axes>"
            ],
            "image/png": "[encoded data removed]"
          },
          "metadata": {}
        }
      ]
    },
    {
      "cell_type": "markdown",
      "source": [
        "Aquí obrservamos que hay mayor prefeencia de personas adultas por los hoteles Resorts que hoteles en la Ciudad."
      ],
      "metadata": {
        "id": "MONPTaurs2hX"
      }
    },
    {
      "cell_type": "code",
      "source": [
        "fig, ax = plt.subplots(figsize=(6, 4))\n",
        "ax.boxplot(dfn['Cancelación previa'].T)\n",
        "ax.set_title('Boxplot de cancelaciones previas de clientes')\n",
        "ax.set_ylabel('Cantidad de cancelaciones previas')\n"
      ],
      "metadata": {
        "colab": {
          "base_uri": "https://localhost:8080/",
          "height": 408
        },
        "id": "HFTTZhOJuAXi",
        "outputId": "50f330e0-1770-4452-f733-42c571e12184"
      },
      "execution_count": 108,
      "outputs": [
        {
          "output_type": "execute_result",
          "data": {
            "text/plain": [
              "Text(0, 0.5, 'Cantidad de cancelaciones previas')"
            ]
          },
          "metadata": {},
          "execution_count": 108
        },
        {
          "output_type": "display_data",
          "data": {
            "text/plain": [
              "<Figure size 600x400 with 1 Axes>"
            ],
            "image/png": "[encoded data removed]"
          },
          "metadata": {}
        }
      ]
    },
    {
      "cell_type": "markdown",
      "source": [
        "Con este gráfico podemos demostrar que no es típico que los clientes cancelen sus reservas, aunque con valores outliers vemos que sí sucede."
      ],
      "metadata": {
        "id": "g3UTY0z8y0a4"
      }
    },
    {
      "cell_type": "code",
      "source": [
        "fig, ax = plt.subplots(figsize=(6, 6))\n",
        "ax.boxplot(dfn['Importe de la reserva'].T)\n",
        "ax.set_title('Boxplot de importes de la reserva')\n",
        "ax.set_ylabel('Importe de la reserva')"
      ],
      "metadata": {
        "id": "On83Apzv2RUG",
        "colab": {
          "base_uri": "https://localhost:8080/",
          "height": 562
        },
        "outputId": "72cdcab7-a691-4cd8-c248-fafcb3a5b6c7"
      },
      "execution_count": 117,
      "outputs": [
        {
          "output_type": "execute_result",
          "data": {
            "text/plain": [
              "Text(0, 0.5, 'Importe de la reserva')"
            ]
          },
          "metadata": {},
          "execution_count": 117
        },
        {
          "output_type": "display_data",
          "data": {
            "text/plain": [
              "<Figure size 600x600 with 1 Axes>"
            ],
            "image/png": "[encoded data removed]"
          },
          "metadata": {}
        }
      ]
    },
    {
      "cell_type": "markdown",
      "source": [
        "Vemos los importes habituales con los que se realizan las reservan y los valores atípicos (outliers)."
      ],
      "metadata": {
        "id": "J0dYsBOLzvcX"
      }
    },
    {
      "cell_type": "code",
      "source": [
        "import seaborn as sns"
      ],
      "metadata": {
        "id": "_dWopRfH1_Sz"
      },
      "execution_count": 119,
      "outputs": []
    },
    {
      "cell_type": "code",
      "source": [
        "sns.histplot(data=dfn, x=\"Tipo de reserva\", hue=\"Tipo de Hotel\", multiple=\"stack\")"
      ],
      "metadata": {
        "colab": {
          "base_uri": "https://localhost:8080/",
          "height": 466
        },
        "id": "zw3Rn9Y_11w9",
        "outputId": "21c3bf1c-bd54-4e54-e0a2-da2273c6dd28"
      },
      "execution_count": 126,
      "outputs": [
        {
          "output_type": "execute_result",
          "data": {
            "text/plain": [
              "<Axes: xlabel='Tipo de reserva', ylabel='Count'>"
            ]
          },
          "metadata": {},
          "execution_count": 126
        },
        {
          "output_type": "display_data",
          "data": {
            "text/plain": [
              "<Figure size 640x480 with 1 Axes>"
            ],
            "image/png": "[encoded data removed]"
          },
          "metadata": {}
        }
      ]
    },
    {
      "cell_type": "markdown",
      "source": [
        "Vemos la distribución de las cantidades de tipo de reservas por tipo de hotel."
      ],
      "metadata": {
        "id": "JFLG-bCc8fkl"
      }
    },
    {
      "cell_type": "code",
      "source": [
        "sns.displot(data=df, x=\"Días transcurridos\", hue=\"Reserva cancelada\", col=\"Reserva cancelada\")"
      ],
      "metadata": {
        "id": "eu7Cjq2X2RR6",
        "colab": {
          "base_uri": "https://localhost:8080/",
          "height": 439
        },
        "outputId": "0f8a2955-2865-40ae-9758-ae6de2f0fab1"
      },
      "execution_count": 124,
      "outputs": [
        {
          "output_type": "execute_result",
          "data": {
            "text/plain": [
              "<seaborn.axisgrid.FacetGrid at 0x78c89ba7b0d0>"
            ]
          },
          "metadata": {},
          "execution_count": 124
        },
        {
          "output_type": "display_data",
          "data": {
            "text/plain": [
              "<Figure size 1142.36x500 with 2 Axes>"
            ],
            "image/png": "[encoded data removed]"
          },
          "metadata": {}
        }
      ]
    },
    {
      "cell_type": "markdown",
      "source": [
        "Observamos que, dentro de las cancelaciones (parte derecha del gráfico), mientras más días pasan desde que los clientes realizan la reserva de hospedaje, es menos probable que cancelen la misma."
      ],
      "metadata": {
        "id": "uANVGsfb3x5y"
      }
    },
    {
      "cell_type": "code",
      "source": [
        "g = sns.relplot(data=dfn, x=\"Cancelación previa\", y=\"Importe de la reserva\")"
      ],
      "metadata": {
        "id": "P06lmFHO2RPn",
        "colab": {
          "base_uri": "https://localhost:8080/",
          "height": 507
        },
        "outputId": "83f8a904-aecf-4689-8ad5-0322b486c175"
      },
      "execution_count": 132,
      "outputs": [
        {
          "output_type": "display_data",
          "data": {
            "text/plain": [
              "<Figure size 500x500 with 1 Axes>"
            ],
            "image/png": "[encoded data removed]"
          },
          "metadata": {}
        }
      ]
    },
    {
      "cell_type": "markdown",
      "source": [
        "Podemos apreciar que la mayoría de los clientes no tienen cancelaciones previas y otorgan mayores importes de reserva."
      ],
      "metadata": {
        "id": "xFhRZ4Nk7_QT"
      }
    }
  ]
}